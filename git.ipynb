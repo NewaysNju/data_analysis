{
 "cells": [
  {
   "cell_type": "markdown",
   "metadata": {},
   "source": [
    "## git helper\n",
    "* 开始\n",
    "```\n",
    "$ git config --global user.name 'Your name'\n",
    "$ git config --global user.email 'email address'\n",
    "```\n"
   ]
  },
  {
   "cell_type": "markdown",
   "metadata": {},
   "source": [
    "* 创建本地版本库\n",
    "```\n",
    "$ mkdir myrepository  # 创建一个叫myrepository的本地版本库\n",
    "$ cd myrepository  \n",
    "$ pwd  # 显示地址\n",
    "$ git init  # 将目录编程git可管理，新增.git文件（可用ls -ah，查看）\n",
    "```"
   ]
  },
  {
   "cell_type": "markdown",
   "metadata": {},
   "source": [
    "* 添加到版本库 --添加文件readme.txt\n",
    "```\n",
    "$ git add readme.txt  # 将本地文件添加到仓库\n",
    "$ git commit -m'修改版本注释'\n",
    "```"
   ]
  },
  {
   "cell_type": "markdown",
   "metadata": {},
   "source": [
    "* 修改版本\n",
    "```\n",
    "$ git status  # 显示当前状态\n",
    "$ git diff readme.txt  # 查看变动\n",
    "$ git add readme.txt\n",
    "$ git commit -m '修改注释'\n",
    "$ git status # 显示无需提交了（已经提交过了）\n",
    "```"
   ]
  },
  {
   "cell_type": "markdown",
   "metadata": {},
   "source": [
    "* 版本回退\n",
    "```\n",
    "$ git log  # 查看历史纪录，版本id和操作\n",
    "$ git log --pretty=oneline  # 精简版\n",
    "$ git reset --hard HEAD^  # 版本回退，HEAD当前版，HEAD^前一版，HEAD~n\n",
    "$ git reset --hard 4242  # 回退到id开头为4242的版本\n",
    "$ git reflog  # 查看以前修改的所有版本id\n",
    "```"
   ]
  },
  {
   "cell_type": "markdown",
   "metadata": {},
   "source": [
    " ## ** git 保存的是修改不是文件 **"
   ]
  },
  {
   "cell_type": "markdown",
   "metadata": {},
   "source": [
    "* 撤销修改(未add)\n",
    "```\n",
    "$ git status  # 查看状态\n",
    "$ cat readme.txt  # 查看最后一版（未add或者未commit)\n",
    "$ git checkout -- readme.txt  # 滚回最近一次add或者commit版本\n",
    "```"
   ]
  },
  {
   "cell_type": "markdown",
   "metadata": {},
   "source": [
    "* 撤销修改(已add未commit)\n",
    "```\n",
    "$ git status\n",
    "$ git reset HEAD readme.txt  # 撤销缓存区的修改  \n",
    "# git reset 不仅退回版本，还可以撤销缓存\n",
    "# 接下来就是同样方法撤销工作区的文件\n",
    "$ git checkout -- readme.txt\n",
    "```"
   ]
  },
  {
   "cell_type": "markdown",
   "metadata": {},
   "source": [
    "* 删除文件（确实要删除）\n",
    "```\n",
    "$ rm hulk.txt  # 删除工作区的hulk\n",
    "$ git rm hulk.txt  # 从版本库删除\n",
    "$ git commit -m'确是要删除'  # 提交\n",
    "```"
   ]
  },
  {
   "cell_type": "markdown",
   "metadata": {},
   "source": [
    "* 删除文件（误删）\n",
    "```\n",
    "$ rm hulk.txt  # 工作区误删\n",
    "$ git checkout -- hulk.txt  # 从版本库回滚\n",
    "```"
   ]
  },
  {
   "cell_type": "markdown",
   "metadata": {
    "collapsed": true
   },
   "source": [
    "* 将本地库更新到远程的库\n",
    "```\n",
    "$ git push origin master\n",
    "```"
   ]
  },
  {
   "cell_type": "code",
   "execution_count": null,
   "metadata": {
    "collapsed": true
   },
   "outputs": [],
   "source": []
  }
 ],
 "metadata": {
  "kernelspec": {
   "display_name": "Python 3",
   "language": "python",
   "name": "python3"
  },
  "language_info": {
   "codemirror_mode": {
    "name": "ipython",
    "version": 3
   },
   "file_extension": ".py",
   "mimetype": "text/x-python",
   "name": "python",
   "nbconvert_exporter": "python",
   "pygments_lexer": "ipython3",
   "version": "3.5.3"
  }
 },
 "nbformat": 4,
 "nbformat_minor": 2
}
