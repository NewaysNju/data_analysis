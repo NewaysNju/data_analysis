{
 "cells": [
  {
   "cell_type": "markdown",
   "metadata": {},
   "source": [
    "###### 时间序列\n",
    "* 时间戳（timestamp)\n",
    "* 固定时期(period)\n",
    "* 时间间隔(interval)"
   ]
  },
  {
   "cell_type": "code",
   "execution_count": 1,
   "metadata": {
    "collapsed": true
   },
   "outputs": [],
   "source": [
    "import numpy as np\n",
    "import pandas as pd\n",
    "from pandas import Series, DataFrame\n",
    "from datetime import datetime  # datetime.datetime 使用最多的数据类型\n",
    "from dateutil.parser import parse\n",
    "from pandas.tseries.offsets import Hour, Minute"
   ]
  },
  {
   "cell_type": "markdown",
   "metadata": {},
   "source": [
    "#####  *datetime*模块中的数据类型\n",
    "* date -以公历形式存储的年月日\n",
    "* time -存储为时分秒毫秒\n",
    "* datetime -存储日期和时间 --datetime = date + time\n",
    "* timedelta -表示两个datetime值之间的差 -日秒毫秒\n",
    "\n",
    "-----------------------------------------------------------------------\n",
    "#### *datetime*格式定义\n",
    "* %Y 4位数年    %y 2位数年\n",
    "* %m 2位数月    %d 2位数日(一位也可以解析）\n",
    "* %H 小时（24小时）  %I 小时（12小时）\n",
    "* %M 2位数分钟      %S 秒\\[00,61\\](秒60，61用于闰秒)\n",
    "* %w 整数表示星期几  %z 表示时区偏移\n",
    "* %F %Y-%m-%d 缩写  %D  %m/%d/%Y 缩写\n",
    "* %a 星期几英文缩写  %A 星期几英文全称\n",
    "* %b 月份缩写       %B 月份全称  \n",
    "* %c 完整的日期     %p 上午还是下午\n",
    "* %x 适应当前环境的日期格式   %X 适应当前环境的时间格式\n"
   ]
  },
  {
   "cell_type": "code",
   "execution_count": 2,
   "metadata": {},
   "outputs": [
    {
     "data": {
      "text/plain": [
       "datetime.datetime(2017, 10, 1, 10, 40, 9, 925076)"
      ]
     },
     "execution_count": 2,
     "metadata": {},
     "output_type": "execute_result"
    }
   ],
   "source": [
    "now = datetime.now()  # 以毫秒形式存储日期与时间\n",
    "now"
   ]
  },
  {
   "cell_type": "code",
   "execution_count": 4,
   "metadata": {},
   "outputs": [
    {
     "data": {
      "text/plain": [
       "(2017, 10, 1)"
      ]
     },
     "execution_count": 4,
     "metadata": {},
     "output_type": "execute_result"
    }
   ],
   "source": [
    "now.year, now.month, now.day  # 居然返回一个元组"
   ]
  },
  {
   "cell_type": "code",
   "execution_count": 6,
   "metadata": {},
   "outputs": [
    {
     "data": {
      "text/plain": [
       "datetime.timedelta(8455, 62740, 459248)"
      ]
     },
     "execution_count": 6,
     "metadata": {},
     "output_type": "execute_result"
    }
   ],
   "source": [
    "delta = datetime.now() - datetime(1994,8,7,17,18)\n",
    "delta  # datetime.timedelta是两个时间对象之间的时间差"
   ]
  },
  {
   "cell_type": "code",
   "execution_count": 7,
   "metadata": {},
   "outputs": [
    {
     "data": {
      "text/plain": [
       "8455"
      ]
     },
     "execution_count": 7,
     "metadata": {},
     "output_type": "execute_result"
    }
   ],
   "source": [
    "delta.days  # 注意前面是day,这里是days"
   ]
  },
  {
   "cell_type": "code",
   "execution_count": 12,
   "metadata": {},
   "outputs": [
    {
     "data": {
      "text/plain": [
       "62740"
      ]
     },
     "execution_count": 12,
     "metadata": {},
     "output_type": "execute_result"
    }
   ],
   "source": [
    "delta.seconds"
   ]
  },
  {
   "cell_type": "code",
   "execution_count": 20,
   "metadata": {},
   "outputs": [
    {
     "data": {
      "text/plain": [
       "datetime.datetime(2011, 1, 19, 0, 18, 31)"
      ]
     },
     "execution_count": 20,
     "metadata": {},
     "output_type": "execute_result"
    }
   ],
   "source": [
    "from datetime import timedelta\n",
    "start = datetime(2011,1,7)\n",
    "start + timedelta(12,1111)  # timedate是先日，再秒"
   ]
  },
  {
   "cell_type": "code",
   "execution_count": 21,
   "metadata": {},
   "outputs": [
    {
     "data": {
      "text/plain": [
       "datetime.datetime(2010, 12, 13, 23, 22, 58)"
      ]
     },
     "execution_count": 21,
     "metadata": {},
     "output_type": "execute_result"
    }
   ],
   "source": [
    "start - 2 * timedelta(12, 1111)"
   ]
  },
  {
   "cell_type": "markdown",
   "metadata": {},
   "source": [
    "#### 字符串与*datetime*的相互转换\n",
    "* datetime转换格式用 -strftime('转换的格式')\n",
    "* 字符串转换成datetime -strptime(str, '识别的格式')"
   ]
  },
  {
   "cell_type": "code",
   "execution_count": 22,
   "metadata": {},
   "outputs": [
    {
     "data": {
      "text/plain": [
       "'2011-01-03 00:00:00'"
      ]
     },
     "execution_count": 22,
     "metadata": {},
     "output_type": "execute_result"
    }
   ],
   "source": [
    "stamp = datetime(2011,1,3)\n",
    "str(stamp)"
   ]
  },
  {
   "cell_type": "code",
   "execution_count": 24,
   "metadata": {},
   "outputs": [
    {
     "data": {
      "text/plain": [
       "'2011 - 01 - 03'"
      ]
     },
     "execution_count": 24,
     "metadata": {},
     "output_type": "execute_result"
    }
   ],
   "source": [
    "stamp.strftime('%Y - %m - %d')  # 转换datetime的格式"
   ]
  },
  {
   "cell_type": "code",
   "execution_count": 31,
   "metadata": {},
   "outputs": [
    {
     "data": {
      "text/plain": [
       "datetime.date(2011, 1, 3)"
      ]
     },
     "execution_count": 31,
     "metadata": {},
     "output_type": "execute_result"
    }
   ],
   "source": [
    "datetime.date(stamp)  # date和time只能分解datetime么？可怕"
   ]
  },
  {
   "cell_type": "code",
   "execution_count": 35,
   "metadata": {},
   "outputs": [
    {
     "data": {
      "text/plain": [
       "datetime.datetime(2011, 1, 1, 0, 0)"
      ]
     },
     "execution_count": 35,
     "metadata": {},
     "output_type": "execute_result"
    }
   ],
   "source": [
    "value = '2011-1-1'\n",
    "datetime.strptime(value, '%Y-%m-%d')"
   ]
  },
  {
   "cell_type": "code",
   "execution_count": 36,
   "metadata": {},
   "outputs": [
    {
     "data": {
      "text/plain": [
       "[datetime.datetime(2001, 7, 12, 0, 0), datetime.datetime(2009, 9, 9, 0, 0)]"
      ]
     },
     "execution_count": 36,
     "metadata": {},
     "output_type": "execute_result"
    }
   ],
   "source": [
    "datestr = ['7/12/2001', '9/9/2009']\n",
    "[datetime.strptime(x, '%m/%d/%Y') for x in datestr]"
   ]
  },
  {
   "cell_type": "markdown",
   "metadata": {},
   "source": [
    "###### 日期自动解析 parse   from [dateutil.parser]()"
   ]
  },
  {
   "cell_type": "code",
   "execution_count": 37,
   "metadata": {},
   "outputs": [
    {
     "data": {
      "text/plain": [
       "datetime.datetime(2001, 12, 12, 0, 0)"
      ]
     },
     "execution_count": 37,
     "metadata": {},
     "output_type": "execute_result"
    }
   ],
   "source": [
    "# strptime可以对已知格式进行日期解析，但对于常见格式的自动解析，我们可以用parser.parse[dateutil]\n",
    "from dateutil.parser import parse\n",
    "parse('2001-12-12')"
   ]
  },
  {
   "cell_type": "code",
   "execution_count": 38,
   "metadata": {},
   "outputs": [
    {
     "data": {
      "text/plain": [
       "datetime.datetime(1994, 1, 31, 22, 45)"
      ]
     },
     "execution_count": 38,
     "metadata": {},
     "output_type": "execute_result"
    }
   ],
   "source": [
    "parse('Jan 31, 1994 10:45 PM')"
   ]
  },
  {
   "cell_type": "code",
   "execution_count": 39,
   "metadata": {},
   "outputs": [
    {
     "data": {
      "text/plain": [
       "datetime.datetime(2011, 12, 6, 0, 0)"
      ]
     },
     "execution_count": 39,
     "metadata": {},
     "output_type": "execute_result"
    }
   ],
   "source": [
    "# 国际通用格式中，日在月前面\n",
    "parse('6/12/2011', dayfirst = True)"
   ]
  },
  {
   "cell_type": "code",
   "execution_count": 40,
   "metadata": {},
   "outputs": [
    {
     "data": {
      "text/plain": [
       "DatetimeIndex(['2001-07-12', '2009-09-09'], dtype='datetime64[ns]', freq=None)"
      ]
     },
     "execution_count": 40,
     "metadata": {},
     "output_type": "execute_result"
    }
   ],
   "source": [
    "# pandas 日期解析属性\n",
    "pd.to_datetime(datestr)"
   ]
  },
  {
   "cell_type": "code",
   "execution_count": 42,
   "metadata": {},
   "outputs": [
    {
     "data": {
      "text/plain": [
       "array([False, False,  True], dtype=bool)"
      ]
     },
     "execution_count": 42,
     "metadata": {},
     "output_type": "execute_result"
    }
   ],
   "source": [
    "# 可以处理缺失值，表示为NaT\n",
    "idx = pd.to_datetime(datestr + [None])\n",
    "idx.isnull()"
   ]
  },
  {
   "cell_type": "code",
   "execution_count": 45,
   "metadata": {},
   "outputs": [
    {
     "data": {
      "text/plain": [
       "datetime.datetime(2019, 8, 3, 0, 0)"
      ]
     },
     "execution_count": 45,
     "metadata": {},
     "output_type": "execute_result"
    }
   ],
   "source": [
    "atime = '8/3/2019'\n",
    "datetime.strptime(atime, '%m/%d/%Y')"
   ]
  },
  {
   "cell_type": "code",
   "execution_count": 49,
   "metadata": {},
   "outputs": [
    {
     "data": {
      "text/plain": [
       "2011-01-02    0.989737\n",
       "2011-01-05    0.674702\n",
       "2011-01-07    1.297222\n",
       "2011-01-08    0.736680\n",
       "2011-01-10   -1.273366\n",
       "2011-01-12    0.476142\n",
       "dtype: float64"
      ]
     },
     "execution_count": 49,
     "metadata": {},
     "output_type": "execute_result"
    }
   ],
   "source": [
    "#### 时间序列基础\n",
    "dates = ['2011-1-2','2011-1-5','2011-1-7','2011-1-8','2011-1-10','2011-1-12']\n",
    "dates = [parse(x) for x in dates]\n",
    "ts = Series(np.random.randn(6), index = dates)  # 创建带有DatetimeIndex的Series时，pandas会自动识别为时间序列\n",
    "ts"
   ]
  },
  {
   "cell_type": "code",
   "execution_count": 51,
   "metadata": {},
   "outputs": [
    {
     "data": {
      "text/plain": [
       "pandas.core.series.Series"
      ]
     },
     "execution_count": 51,
     "metadata": {},
     "output_type": "execute_result"
    }
   ],
   "source": [
    "type(ts)"
   ]
  },
  {
   "cell_type": "code",
   "execution_count": 53,
   "metadata": {},
   "outputs": [
    {
     "data": {
      "text/plain": [
       "DatetimeIndex(['2011-01-02', '2011-01-05', '2011-01-07', '2011-01-08',\n",
       "               '2011-01-10', '2011-01-12'],\n",
       "              dtype='datetime64[ns]', freq=None)"
      ]
     },
     "execution_count": 53,
     "metadata": {},
     "output_type": "execute_result"
    }
   ],
   "source": [
    "ts.index"
   ]
  },
  {
   "cell_type": "code",
   "execution_count": 54,
   "metadata": {},
   "outputs": [
    {
     "data": {
      "text/plain": [
       "0.4761419618188249"
      ]
     },
     "execution_count": 54,
     "metadata": {},
     "output_type": "execute_result"
    }
   ],
   "source": [
    "ts['1/12/2011']  # 可以直接传入可以解释为日期的字符串，可以传入字符串日期，datetime或Timestamp"
   ]
  },
  {
   "cell_type": "code",
   "execution_count": 56,
   "metadata": {
    "scrolled": true
   },
   "outputs": [
    {
     "data": {
      "text/plain": [
       "2000-01-01    1.339675\n",
       "2000-01-02    0.198076\n",
       "2000-01-03   -0.636845\n",
       "2000-01-04   -1.247412\n",
       "2000-01-05   -0.294716\n",
       "2000-01-06    1.019388\n",
       "2000-01-07   -0.024852\n",
       "2000-01-08    1.289348\n",
       "2000-01-09    0.028459\n",
       "2000-01-10    1.882496\n",
       "2000-01-11    0.012879\n",
       "2000-01-12    1.310761\n",
       "2000-01-13    0.614686\n",
       "2000-01-14    0.889261\n",
       "2000-01-15    0.678966\n",
       "2000-01-16    0.604645\n",
       "2000-01-17   -0.853035\n",
       "2000-01-18    0.563864\n",
       "2000-01-19   -1.331722\n",
       "2000-01-20    1.021454\n",
       "2000-01-21    1.313393\n",
       "2000-01-22   -0.544272\n",
       "2000-01-23   -2.081838\n",
       "2000-01-24   -1.321120\n",
       "2000-01-25   -0.374013\n",
       "2000-01-26   -0.609643\n",
       "2000-01-27   -0.196468\n",
       "2000-01-28   -1.309516\n",
       "2000-01-29    0.844773\n",
       "2000-01-30    1.048412\n",
       "                ...   \n",
       "2002-08-28    0.110186\n",
       "2002-08-29   -0.407267\n",
       "2002-08-30   -1.472597\n",
       "2002-08-31    0.105392\n",
       "2002-09-01    0.015085\n",
       "2002-09-02    1.545620\n",
       "2002-09-03   -0.198311\n",
       "2002-09-04    0.660224\n",
       "2002-09-05   -0.496625\n",
       "2002-09-06    1.726385\n",
       "2002-09-07   -1.141857\n",
       "2002-09-08   -1.458707\n",
       "2002-09-09    1.419864\n",
       "2002-09-10   -0.195605\n",
       "2002-09-11   -1.024408\n",
       "2002-09-12   -0.279924\n",
       "2002-09-13   -0.566265\n",
       "2002-09-14   -0.484879\n",
       "2002-09-15    0.653725\n",
       "2002-09-16   -1.018685\n",
       "2002-09-17    0.488050\n",
       "2002-09-18   -1.925006\n",
       "2002-09-19    0.489831\n",
       "2002-09-20   -1.580198\n",
       "2002-09-21   -0.252201\n",
       "2002-09-22   -0.554309\n",
       "2002-09-23   -0.106382\n",
       "2002-09-24    1.259612\n",
       "2002-09-25    0.078621\n",
       "2002-09-26    0.616384\n",
       "Freq: D, Length: 1000, dtype: float64"
      ]
     },
     "execution_count": 56,
     "metadata": {},
     "output_type": "execute_result"
    }
   ],
   "source": [
    "longer_ts = Series(np.random.randn(1000), index = pd.date_range('1/1/2000', periods = 1000))\n",
    "longer_ts"
   ]
  },
  {
   "cell_type": "code",
   "execution_count": 57,
   "metadata": {
    "scrolled": true
   },
   "outputs": [
    {
     "data": {
      "text/plain": [
       "2001-01-01   -0.274480\n",
       "2001-01-02    1.156480\n",
       "2001-01-03    2.213221\n",
       "2001-01-04   -0.175111\n",
       "2001-01-05   -0.412386\n",
       "2001-01-06    0.342473\n",
       "2001-01-07   -0.487882\n",
       "2001-01-08   -1.306296\n",
       "2001-01-09    0.509622\n",
       "2001-01-10   -2.121143\n",
       "2001-01-11    0.724492\n",
       "2001-01-12   -0.404081\n",
       "2001-01-13    0.590801\n",
       "2001-01-14   -1.675487\n",
       "2001-01-15    0.070764\n",
       "2001-01-16    1.415568\n",
       "2001-01-17    0.813249\n",
       "2001-01-18    0.852707\n",
       "2001-01-19   -1.005191\n",
       "2001-01-20    0.493046\n",
       "2001-01-21   -0.029629\n",
       "2001-01-22    0.603874\n",
       "2001-01-23    2.037486\n",
       "2001-01-24   -1.665294\n",
       "2001-01-25   -0.583354\n",
       "2001-01-26   -0.106518\n",
       "2001-01-27   -0.254788\n",
       "2001-01-28   -0.521045\n",
       "2001-01-29    0.914664\n",
       "2001-01-30    0.799827\n",
       "                ...   \n",
       "2001-12-02    0.473654\n",
       "2001-12-03   -0.977422\n",
       "2001-12-04   -0.372821\n",
       "2001-12-05   -0.756361\n",
       "2001-12-06   -1.783225\n",
       "2001-12-07   -0.692628\n",
       "2001-12-08    0.526629\n",
       "2001-12-09    0.085937\n",
       "2001-12-10    0.104156\n",
       "2001-12-11    0.650169\n",
       "2001-12-12   -1.562575\n",
       "2001-12-13   -0.824710\n",
       "2001-12-14    2.097648\n",
       "2001-12-15    0.412738\n",
       "2001-12-16   -0.569126\n",
       "2001-12-17    0.322344\n",
       "2001-12-18   -1.880659\n",
       "2001-12-19   -1.555979\n",
       "2001-12-20   -0.734089\n",
       "2001-12-21    0.807899\n",
       "2001-12-22   -0.578083\n",
       "2001-12-23   -1.771153\n",
       "2001-12-24   -0.692806\n",
       "2001-12-25    0.656718\n",
       "2001-12-26    0.492678\n",
       "2001-12-27   -1.067699\n",
       "2001-12-28    1.522598\n",
       "2001-12-29    2.488882\n",
       "2001-12-30   -2.310981\n",
       "2001-12-31   -0.987936\n",
       "Freq: D, Length: 365, dtype: float64"
      ]
     },
     "execution_count": 57,
     "metadata": {},
     "output_type": "execute_result"
    }
   ],
   "source": [
    "longer_ts['2001']  # 提取年"
   ]
  },
  {
   "cell_type": "code",
   "execution_count": 58,
   "metadata": {},
   "outputs": [
    {
     "data": {
      "text/plain": [
       "2011-01-05    0.674702\n",
       "2011-01-07    1.297222\n",
       "2011-01-08    0.736680\n",
       "2011-01-10   -1.273366\n",
       "2011-01-12    0.476142\n",
       "dtype: float64"
      ]
     },
     "execution_count": 58,
     "metadata": {},
     "output_type": "execute_result"
    }
   ],
   "source": [
    "ts['1/3/2011':]  # 切片"
   ]
  },
  {
   "cell_type": "code",
   "execution_count": 59,
   "metadata": {},
   "outputs": [
    {
     "data": {
      "text/plain": [
       "2011-01-02    0.989737\n",
       "2011-01-05    0.674702\n",
       "2011-01-07    1.297222\n",
       "2011-01-08    0.736680\n",
       "dtype: float64"
      ]
     },
     "execution_count": 59,
     "metadata": {},
     "output_type": "execute_result"
    }
   ],
   "source": [
    "# 另一种切片方式\n",
    "ts.truncate(after = '1/9/2011')"
   ]
  },
  {
   "cell_type": "code",
   "execution_count": 60,
   "metadata": {},
   "outputs": [
    {
     "data": {
      "text/plain": [
       "2011-01-08    0.736680\n",
       "2011-01-10   -1.273366\n",
       "2011-01-12    0.476142\n",
       "dtype: float64"
      ]
     },
     "execution_count": 60,
     "metadata": {},
     "output_type": "execute_result"
    }
   ],
   "source": [
    "ts.truncate(before = '1/8/2011')"
   ]
  },
  {
   "cell_type": "code",
   "execution_count": null,
   "metadata": {
    "collapsed": true
   },
   "outputs": [],
   "source": [
    "# 对于带有重复索引的时间序列  groupby(level = 0)"
   ]
  },
  {
   "cell_type": "code",
   "execution_count": 61,
   "metadata": {},
   "outputs": [
    {
     "data": {
      "text/plain": [
       "DatetimeIndex(['2001-04-01', '2001-04-02', '2001-04-03', '2001-04-04',\n",
       "               '2001-04-05', '2001-04-06', '2001-04-07', '2001-04-08',\n",
       "               '2001-04-09', '2001-04-10', '2001-04-11', '2001-04-12',\n",
       "               '2001-04-13', '2001-04-14', '2001-04-15', '2001-04-16',\n",
       "               '2001-04-17', '2001-04-18', '2001-04-19', '2001-04-20',\n",
       "               '2001-04-21', '2001-04-22', '2001-04-23', '2001-04-24',\n",
       "               '2001-04-25', '2001-04-26', '2001-04-27', '2001-04-28',\n",
       "               '2001-04-29', '2001-04-30', '2001-05-01', '2001-05-02',\n",
       "               '2001-05-03', '2001-05-04', '2001-05-05', '2001-05-06',\n",
       "               '2001-05-07', '2001-05-08', '2001-05-09', '2001-05-10',\n",
       "               '2001-05-11', '2001-05-12', '2001-05-13', '2001-05-14',\n",
       "               '2001-05-15', '2001-05-16', '2001-05-17', '2001-05-18',\n",
       "               '2001-05-19', '2001-05-20', '2001-05-21', '2001-05-22',\n",
       "               '2001-05-23', '2001-05-24', '2001-05-25', '2001-05-26',\n",
       "               '2001-05-27', '2001-05-28', '2001-05-29', '2001-05-30',\n",
       "               '2001-05-31', '2001-06-01'],\n",
       "              dtype='datetime64[ns]', freq='D')"
      ]
     },
     "execution_count": 61,
     "metadata": {},
     "output_type": "execute_result"
    }
   ],
   "source": [
    "# 生成日期范围\n",
    "pd.date_range('4/1/2001','6/1/2001')  # 默认生成频率是日"
   ]
  },
  {
   "cell_type": "code",
   "execution_count": 62,
   "metadata": {},
   "outputs": [
    {
     "data": {
      "text/plain": [
       "DatetimeIndex(['2001-04-01', '2001-04-02', '2001-04-03', '2001-04-04',\n",
       "               '2001-04-05', '2001-04-06', '2001-04-07', '2001-04-08',\n",
       "               '2001-04-09', '2001-04-10', '2001-04-11', '2001-04-12',\n",
       "               '2001-04-13', '2001-04-14', '2001-04-15', '2001-04-16',\n",
       "               '2001-04-17', '2001-04-18', '2001-04-19', '2001-04-20'],\n",
       "              dtype='datetime64[ns]', freq='D')"
      ]
     },
     "execution_count": 62,
     "metadata": {},
     "output_type": "execute_result"
    }
   ],
   "source": [
    "pd.date_range(start = '4/1/2001', periods = 20)"
   ]
  },
  {
   "cell_type": "code",
   "execution_count": 64,
   "metadata": {},
   "outputs": [
    {
     "data": {
      "text/plain": [
       "DatetimeIndex(['2001-04-30', '2001-05-31'], dtype='datetime64[ns]', freq='BM')"
      ]
     },
     "execution_count": 64,
     "metadata": {},
     "output_type": "execute_result"
    }
   ],
   "source": [
    "pd.date_range('4/1/2001','6/1/2001', freq = 'BM')"
   ]
  },
  {
   "cell_type": "code",
   "execution_count": 65,
   "metadata": {},
   "outputs": [
    {
     "data": {
      "text/plain": [
       "DatetimeIndex(['2012-05-12', '2012-05-13', '2012-05-14', '2012-05-15',\n",
       "               '2012-05-16', '2012-05-17', '2012-05-18', '2012-05-19',\n",
       "               '2012-05-20', '2012-05-21', '2012-05-22', '2012-05-23',\n",
       "               '2012-05-24', '2012-05-25', '2012-05-26', '2012-05-27',\n",
       "               '2012-05-28', '2012-05-29', '2012-05-30', '2012-05-31'],\n",
       "              dtype='datetime64[ns]', freq='D')"
      ]
     },
     "execution_count": 65,
     "metadata": {},
     "output_type": "execute_result"
    }
   ],
   "source": [
    "pd.date_range('5/12/2012 12:13:13', periods = 20, normalize = True)  # 规范化时间部分"
   ]
  },
  {
   "cell_type": "code",
   "execution_count": 67,
   "metadata": {},
   "outputs": [
    {
     "data": {
      "text/plain": [
       "<10 * Hours>"
      ]
     },
     "execution_count": 67,
     "metadata": {},
     "output_type": "execute_result"
    }
   ],
   "source": [
    "# 频率和偏移量\n",
    "from pandas.tseries.offsets import Hour, Minute\n",
    "Hour(10)"
   ]
  },
  {
   "cell_type": "code",
   "execution_count": 68,
   "metadata": {},
   "outputs": [
    {
     "data": {
      "text/plain": [
       "<90 * Minutes>"
      ]
     },
     "execution_count": 68,
     "metadata": {},
     "output_type": "execute_result"
    }
   ],
   "source": [
    "# 可加和性\n",
    "Hour(1) + Minute(30)"
   ]
  },
  {
   "cell_type": "code",
   "execution_count": 69,
   "metadata": {},
   "outputs": [
    {
     "data": {
      "text/plain": [
       "DatetimeIndex(['2000-01-01 00:00:00', '2000-01-01 01:30:00',\n",
       "               '2000-01-01 03:00:00', '2000-01-01 04:30:00',\n",
       "               '2000-01-01 06:00:00', '2000-01-01 07:30:00',\n",
       "               '2000-01-01 09:00:00', '2000-01-01 10:30:00',\n",
       "               '2000-01-01 12:00:00', '2000-01-01 13:30:00'],\n",
       "              dtype='datetime64[ns]', freq='90T')"
      ]
     },
     "execution_count": 69,
     "metadata": {},
     "output_type": "execute_result"
    }
   ],
   "source": [
    "# date_range中freq参数的传入\n",
    "pd.date_range('1/1/2000', periods = 10, freq = '1h30min')"
   ]
  },
  {
   "cell_type": "markdown",
   "metadata": {},
   "source": [
    "####  **时间频率**\n",
    "    * D/B/H/T/S/L/U   日历日/工作日/小时/分/秒/毫秒/微秒\n",
    "* M/BM/MS/BMS    每月最后一个日历日/工作日/第一个……\n",
    "* W-MON/W-TUE    每月每周的星期几\n",
    "* WOM-1MON/WOM-2TUE   # 每月每周的第几个星期几\n",
    "* Q-JAN/BQ-JAN/QS-JANBQS-JAN   # 从几月开始的每季度最后一个日历日/工作日/第一个……\n",
    "* A-JAN/BA-JAN/AS-JAN/BAS-JAN  # 从几月开始的没年度最后一个日历日/工作日/第一个……"
   ]
  },
  {
   "cell_type": "code",
   "execution_count": 3,
   "metadata": {},
   "outputs": [
    {
     "data": {
      "text/plain": [
       "2000-01-31    1.033841\n",
       "2000-02-29    2.199375\n",
       "2000-03-31    0.309587\n",
       "2000-04-30    0.345247\n",
       "Freq: M, dtype: float64"
      ]
     },
     "execution_count": 3,
     "metadata": {},
     "output_type": "execute_result"
    }
   ],
   "source": [
    "ts = Series(np.random.randn(4),\n",
    "           index = pd.date_range('1/1/2000', periods = 4, freq = 'M'))\n",
    "ts"
   ]
  },
  {
   "cell_type": "code",
   "execution_count": 4,
   "metadata": {},
   "outputs": [
    {
     "data": {
      "text/plain": [
       "2000-01-31         NaN\n",
       "2000-02-29         NaN\n",
       "2000-03-31    1.033841\n",
       "2000-04-30    2.199375\n",
       "Freq: M, dtype: float64"
      ]
     },
     "execution_count": 4,
     "metadata": {},
     "output_type": "execute_result"
    }
   ],
   "source": [
    "ts.shift(2)"
   ]
  },
  {
   "cell_type": "code",
   "execution_count": 5,
   "metadata": {},
   "outputs": [
    {
     "data": {
      "text/plain": [
       "2000-01-31    0.309587\n",
       "2000-02-29    0.345247\n",
       "2000-03-31         NaN\n",
       "2000-04-30         NaN\n",
       "Freq: M, dtype: float64"
      ]
     },
     "execution_count": 5,
     "metadata": {},
     "output_type": "execute_result"
    }
   ],
   "source": [
    "ts.shift(-2)"
   ]
  },
  {
   "cell_type": "code",
   "execution_count": 6,
   "metadata": {},
   "outputs": [
    {
     "data": {
      "text/plain": [
       "2000-01-31         NaN\n",
       "2000-02-29    1.127382\n",
       "2000-03-31   -0.859239\n",
       "2000-04-30    0.115186\n",
       "Freq: M, dtype: float64"
      ]
     },
     "execution_count": 6,
     "metadata": {},
     "output_type": "execute_result"
    }
   ],
   "source": [
    "ts/ts.shift(1)-1  # 百分比变化"
   ]
  },
  {
   "cell_type": "code",
   "execution_count": 7,
   "metadata": {},
   "outputs": [
    {
     "data": {
      "text/plain": [
       "2000-03-31    1.033841\n",
       "2000-04-30    2.199375\n",
       "2000-05-31    0.309587\n",
       "2000-06-30    0.345247\n",
       "Freq: M, dtype: float64"
      ]
     },
     "execution_count": 7,
     "metadata": {},
     "output_type": "execute_result"
    }
   ],
   "source": [
    "# 已知频率  ---单纯位移操作不会修改索引，导致部分数据丢失，这样会使时间戳移动而不是数据移动\n",
    "ts.shift(2, freq = 'M')"
   ]
  },
  {
   "cell_type": "code",
   "execution_count": 8,
   "metadata": {},
   "outputs": [
    {
     "data": {
      "text/plain": [
       "2000-02-03    1.033841\n",
       "2000-03-03    2.199375\n",
       "2000-04-03    0.309587\n",
       "2000-05-03    0.345247\n",
       "dtype: float64"
      ]
     },
     "execution_count": 8,
     "metadata": {},
     "output_type": "execute_result"
    }
   ],
   "source": [
    "ts.shift(3, freq = \"D\")"
   ]
  },
  {
   "cell_type": "code",
   "execution_count": 9,
   "metadata": {},
   "outputs": [
    {
     "data": {
      "text/plain": [
       "2000-02-03    1.033841\n",
       "2000-03-03    2.199375\n",
       "2000-04-03    0.309587\n",
       "2000-05-03    0.345247\n",
       "dtype: float64"
      ]
     },
     "execution_count": 9,
     "metadata": {},
     "output_type": "execute_result"
    }
   ],
   "source": [
    "ts.shift(1, freq = '3D')"
   ]
  },
  {
   "cell_type": "code",
   "execution_count": 10,
   "metadata": {},
   "outputs": [
    {
     "data": {
      "text/plain": [
       "2000-01-31 01:30:00    1.033841\n",
       "2000-02-29 01:30:00    2.199375\n",
       "2000-03-31 01:30:00    0.309587\n",
       "2000-04-30 01:30:00    0.345247\n",
       "Freq: M, dtype: float64"
      ]
     },
     "execution_count": 10,
     "metadata": {},
     "output_type": "execute_result"
    }
   ],
   "source": [
    "ts.shift(1, freq = '90T')"
   ]
  },
  {
   "cell_type": "code",
   "execution_count": 11,
   "metadata": {},
   "outputs": [
    {
     "data": {
      "text/plain": [
       "Timestamp('2017-10-04 17:34:04.005705')"
      ]
     },
     "execution_count": 11,
     "metadata": {},
     "output_type": "execute_result"
    }
   ],
   "source": [
    "# 通过偏移量对日期进行位移\n",
    "from pandas.tseries.offsets import Day, MonthEnd\n",
    "now = datetime.now()\n",
    "now + 3 * Day()"
   ]
  },
  {
   "cell_type": "code",
   "execution_count": 12,
   "metadata": {},
   "outputs": [
    {
     "data": {
      "text/plain": [
       "Timestamp('2017-10-31 17:34:04.005705')"
      ]
     },
     "execution_count": 12,
     "metadata": {},
     "output_type": "execute_result"
    }
   ],
   "source": [
    "# 锚点\n",
    "now + MonthEnd()  # 默认是1"
   ]
  },
  {
   "cell_type": "code",
   "execution_count": 13,
   "metadata": {},
   "outputs": [
    {
     "data": {
      "text/plain": [
       "Timestamp('2017-12-31 17:34:04.005705')"
      ]
     },
     "execution_count": 13,
     "metadata": {},
     "output_type": "execute_result"
    }
   ],
   "source": [
    "now + MonthEnd(3)"
   ]
  },
  {
   "cell_type": "code",
   "execution_count": 14,
   "metadata": {},
   "outputs": [
    {
     "data": {
      "text/plain": [
       "Timestamp('2017-10-31 17:34:04.005705')"
      ]
     },
     "execution_count": 14,
     "metadata": {},
     "output_type": "execute_result"
    }
   ],
   "source": [
    "# 锚点还是可以向前，向后的\n",
    "MonthEnd().rollforward(now)"
   ]
  },
  {
   "cell_type": "code",
   "execution_count": 15,
   "metadata": {},
   "outputs": [
    {
     "data": {
      "text/plain": [
       "Timestamp('2017-09-30 17:34:04.005705')"
      ]
     },
     "execution_count": 15,
     "metadata": {},
     "output_type": "execute_result"
    }
   ],
   "source": [
    "MonthEnd().rollback(now)"
   ]
  },
  {
   "cell_type": "code",
   "execution_count": 16,
   "metadata": {},
   "outputs": [
    {
     "data": {
      "text/plain": [
       "2017-01-31   -0.502682\n",
       "2017-02-28   -0.427030\n",
       "2017-03-31    0.000239\n",
       "2017-04-30   -0.261614\n",
       "2017-05-31   -0.012147\n",
       "2017-06-30   -0.143833\n",
       "2017-07-31   -0.274517\n",
       "2017-08-31    0.022813\n",
       "2017-09-30    0.630197\n",
       "2017-10-31    0.363602\n",
       "2017-11-30   -0.784564\n",
       "2017-12-31   -0.557156\n",
       "2018-01-31   -0.229036\n",
       "2018-02-28    0.966408\n",
       "dtype: float64"
      ]
     },
     "execution_count": 16,
     "metadata": {},
     "output_type": "execute_result"
    }
   ],
   "source": [
    "ts = Series(np.random.randn(100), \n",
    "           index = pd.date_range('1/1/2017', periods = 100, freq = '4d'))\n",
    "ts.groupby(MonthEnd()).mean()"
   ]
  },
  {
   "cell_type": "code",
   "execution_count": 17,
   "metadata": {},
   "outputs": [
    {
     "data": {
      "text/plain": [
       "2017-01-31   -0.502682\n",
       "2017-02-28   -0.427030\n",
       "2017-03-31    0.000239\n",
       "2017-04-30   -0.261614\n",
       "2017-05-31   -0.012147\n",
       "2017-06-30   -0.104162\n",
       "2017-07-31   -0.338525\n",
       "2017-08-31    0.022813\n",
       "2017-09-30    0.592281\n",
       "2017-10-31    0.368850\n",
       "2017-11-30   -0.784564\n",
       "2017-12-31   -0.576830\n",
       "2018-01-31   -0.159677\n",
       "2018-02-28    0.966408\n",
       "Freq: M, dtype: float64"
      ]
     },
     "execution_count": 17,
     "metadata": {},
     "output_type": "execute_result"
    }
   ],
   "source": [
    "# More gentle .......\n",
    "ts.resample('M').mean()"
   ]
  },
  {
   "cell_type": "code",
   "execution_count": 18,
   "metadata": {},
   "outputs": [
    {
     "data": {
      "text/plain": [
       "['US/Eastern', 'US/Hawaii', 'US/Mountain', 'US/Pacific', 'UTC']"
      ]
     },
     "execution_count": 18,
     "metadata": {},
     "output_type": "execute_result"
    }
   ],
   "source": [
    "# 时区\n",
    "import pytz\n",
    "pytz.common_timezones[-5:]"
   ]
  },
  {
   "cell_type": "code",
   "execution_count": 19,
   "metadata": {},
   "outputs": [
    {
     "data": {
      "text/plain": [
       "<DstTzInfo 'US/Eastern' LMT-1 day, 19:04:00 STD>"
      ]
     },
     "execution_count": 19,
     "metadata": {},
     "output_type": "execute_result"
    }
   ],
   "source": [
    "pytz.timezone('US/Eastern')  # 获取时区对象"
   ]
  },
  {
   "cell_type": "code",
   "execution_count": 20,
   "metadata": {},
   "outputs": [
    {
     "data": {
      "text/plain": [
       "2017-04-01 16:00:00    1.012902\n",
       "2017-04-02 16:00:00   -2.344639\n",
       "2017-04-03 16:00:00    0.094559\n",
       "2017-04-04 16:00:00    0.414983\n",
       "2017-04-05 16:00:00   -0.284562\n",
       "2017-04-06 16:00:00   -0.019973\n",
       "Freq: D, dtype: float64"
      ]
     },
     "execution_count": 20,
     "metadata": {},
     "output_type": "execute_result"
    }
   ],
   "source": [
    "# 本地化和转换\n",
    "rng = pd.date_range('4/1/2017 16:00', periods = 6, freq = 'D')\n",
    "ts = Series(np.random.randn(len(rng)), index = rng)\n",
    "ts"
   ]
  },
  {
   "cell_type": "code",
   "execution_count": 21,
   "metadata": {},
   "outputs": [
    {
     "data": {
      "text/plain": [
       "DatetimeIndex(['2017-04-01 16:00:00+00:00', '2017-04-02 16:00:00+00:00',\n",
       "               '2017-04-03 16:00:00+00:00', '2017-04-04 16:00:00+00:00',\n",
       "               '2017-04-05 16:00:00+00:00', '2017-04-06 16:00:00+00:00'],\n",
       "              dtype='datetime64[ns, UTC]', freq='D')"
      ]
     },
     "execution_count": 21,
     "metadata": {},
     "output_type": "execute_result"
    }
   ],
   "source": [
    "pd.date_range('4/1/2017 16:00', periods = 6, freq = 'D', tz = 'UTC')"
   ]
  },
  {
   "cell_type": "code",
   "execution_count": 24,
   "metadata": {},
   "outputs": [
    {
     "data": {
      "text/plain": [
       "2017-04-01 16:00:00+00:00    1.012902\n",
       "2017-04-02 16:00:00+00:00   -2.344639\n",
       "2017-04-03 16:00:00+00:00    0.094559\n",
       "2017-04-04 16:00:00+00:00    0.414983\n",
       "2017-04-05 16:00:00+00:00   -0.284562\n",
       "2017-04-06 16:00:00+00:00   -0.019973\n",
       "Freq: D, dtype: float64"
      ]
     },
     "execution_count": 24,
     "metadata": {},
     "output_type": "execute_result"
    }
   ],
   "source": [
    "ts_utc = ts.tz_localize('UTC')  # 时间从naive到本地化\n",
    "ts_utc"
   ]
  },
  {
   "cell_type": "code",
   "execution_count": 25,
   "metadata": {},
   "outputs": [
    {
     "data": {
      "text/plain": [
       "DatetimeIndex(['2017-04-01 16:00:00+00:00', '2017-04-02 16:00:00+00:00',\n",
       "               '2017-04-03 16:00:00+00:00', '2017-04-04 16:00:00+00:00',\n",
       "               '2017-04-05 16:00:00+00:00', '2017-04-06 16:00:00+00:00'],\n",
       "              dtype='datetime64[ns, UTC]', freq='D')"
      ]
     },
     "execution_count": 25,
     "metadata": {},
     "output_type": "execute_result"
    }
   ],
   "source": [
    "ts_utc.index"
   ]
  },
  {
   "cell_type": "code",
   "execution_count": 26,
   "metadata": {},
   "outputs": [
    {
     "data": {
      "text/plain": [
       "2017-04-01 12:00:00-04:00    1.012902\n",
       "2017-04-02 12:00:00-04:00   -2.344639\n",
       "2017-04-03 12:00:00-04:00    0.094559\n",
       "2017-04-04 12:00:00-04:00    0.414983\n",
       "2017-04-05 12:00:00-04:00   -0.284562\n",
       "2017-04-06 12:00:00-04:00   -0.019973\n",
       "Freq: D, dtype: float64"
      ]
     },
     "execution_count": 26,
     "metadata": {},
     "output_type": "execute_result"
    }
   ],
   "source": [
    "# 转换时区\n",
    "ts_utc.tz_convert('US/Eastern')  # 从本地时间转为美东时间"
   ]
  },
  {
   "cell_type": "code",
   "execution_count": 27,
   "metadata": {},
   "outputs": [
    {
     "data": {
      "text/plain": [
       "datetime.datetime(2017, 10, 1, 16, 14)"
      ]
     },
     "execution_count": 27,
     "metadata": {},
     "output_type": "execute_result"
    }
   ],
   "source": [
    "atime = parse('10/01/2017 16:14')\n",
    "atime"
   ]
  },
  {
   "cell_type": "code",
   "execution_count": 28,
   "metadata": {},
   "outputs": [
    {
     "data": {
      "text/plain": [
       "datetime.datetime(2017, 10, 1, 16, 14)"
      ]
     },
     "execution_count": 28,
     "metadata": {},
     "output_type": "execute_result"
    }
   ],
   "source": [
    "btime = datetime(2017,10,1,16,14)\n",
    "btime"
   ]
  },
  {
   "cell_type": "code",
   "execution_count": 29,
   "metadata": {},
   "outputs": [
    {
     "data": {
      "text/plain": [
       "datetime.datetime(2017, 10, 1, 16, 14)"
      ]
     },
     "execution_count": 29,
     "metadata": {},
     "output_type": "execute_result"
    }
   ],
   "source": [
    "ctime = datetime.strptime('10/01/2017 16:14', '%m/%d/%Y %H:%M')\n",
    "ctime"
   ]
  },
  {
   "cell_type": "markdown",
   "metadata": {},
   "source": [
    "#### Period\n",
    "表示时间区间，其构造函数需要用到一个字符串或整数和频率"
   ]
  },
  {
   "cell_type": "code",
   "execution_count": 30,
   "metadata": {},
   "outputs": [
    {
     "data": {
      "text/plain": [
       "Period('2007', 'A-DEC')"
      ]
     },
     "execution_count": 30,
     "metadata": {},
     "output_type": "execute_result"
    }
   ],
   "source": [
    "p = pd.Period(2007, freq = 'A-DEC')  # 这个周期年以12月为最后一个月\n",
    "p"
   ]
  },
  {
   "cell_type": "code",
   "execution_count": 31,
   "metadata": {},
   "outputs": [
    {
     "data": {
      "text/plain": [
       "Period('2012', 'A-DEC')"
      ]
     },
     "execution_count": 31,
     "metadata": {},
     "output_type": "execute_result"
    }
   ],
   "source": [
    "p+5"
   ]
  },
  {
   "cell_type": "code",
   "execution_count": 32,
   "metadata": {},
   "outputs": [
    {
     "data": {
      "text/plain": [
       "7"
      ]
     },
     "execution_count": 32,
     "metadata": {},
     "output_type": "execute_result"
    }
   ],
   "source": [
    "pd.Period('2014', freq = 'A-DEC') - p"
   ]
  },
  {
   "cell_type": "code",
   "execution_count": 33,
   "metadata": {},
   "outputs": [
    {
     "data": {
      "text/plain": [
       "2017-04-01 16:00:00   -1.422871\n",
       "2017-04-02 16:00:00   -0.420318\n",
       "2017-04-03 16:00:00   -1.485736\n",
       "2017-04-04 16:00:00   -1.497050\n",
       "2017-04-05 16:00:00    0.703967\n",
       "2017-04-06 16:00:00    0.881952\n",
       "Freq: D, dtype: float64"
      ]
     },
     "execution_count": 33,
     "metadata": {},
     "output_type": "execute_result"
    }
   ],
   "source": [
    "# PeriodIndex类保存一组Period,可以在任何pandas数据结构中被用作轴索引\n",
    "Series(np.random.randn(6),index = rng)"
   ]
  },
  {
   "cell_type": "code",
   "execution_count": 34,
   "metadata": {},
   "outputs": [
    {
     "data": {
      "text/plain": [
       "PeriodIndex(['2001Q1', '2002Q2', '2003Q3'], dtype='period[Q-DEC]', freq='Q-DEC')"
      ]
     },
     "execution_count": 34,
     "metadata": {},
     "output_type": "execute_result"
    }
   ],
   "source": [
    "# PeriodIndex类的构造函数还允许直接使用一组字符串\n",
    "values = ['2001Q1','2002Q2','2003Q3']\n",
    "index = pd.PeriodIndex(values,freq = 'Q-DEC')\n",
    "index"
   ]
  },
  {
   "cell_type": "code",
   "execution_count": 35,
   "metadata": {},
   "outputs": [
    {
     "data": {
      "text/plain": [
       "Period('2007-01', 'M')"
      ]
     },
     "execution_count": 35,
     "metadata": {},
     "output_type": "execute_result"
    }
   ],
   "source": [
    "# 频率转换\n",
    "p = pd.Period('2007', freq = 'A-DEC')\n",
    "p.asfreq('M', how = 'start')"
   ]
  },
  {
   "cell_type": "code",
   "execution_count": 36,
   "metadata": {},
   "outputs": [
    {
     "data": {
      "text/plain": [
       "2000-01-31   -0.016738\n",
       "2000-02-29   -1.003040\n",
       "2000-03-31   -0.606121\n",
       "Freq: M, dtype: float64"
      ]
     },
     "execution_count": 36,
     "metadata": {},
     "output_type": "execute_result"
    }
   ],
   "source": [
    "# timestamp转换成Periods\n",
    "rng = pd.date_range('1/1/2000', periods = 3, freq = 'M')\n",
    "ts = Series(np.random.randn(3), index = rng)\n",
    "ts"
   ]
  },
  {
   "cell_type": "code",
   "execution_count": 37,
   "metadata": {},
   "outputs": [
    {
     "data": {
      "text/plain": [
       "2000-01   -0.016738\n",
       "2000-02   -1.003040\n",
       "2000-03   -0.606121\n",
       "Freq: M, dtype: float64"
      ]
     },
     "execution_count": 37,
     "metadata": {},
     "output_type": "execute_result"
    }
   ],
   "source": [
    "pts = ts.to_period()\n",
    "pts"
   ]
  },
  {
   "cell_type": "code",
   "execution_count": 38,
   "metadata": {},
   "outputs": [
    {
     "data": {
      "text/plain": [
       "2000-01-31   -0.016738\n",
       "2000-02-29   -1.003040\n",
       "2000-03-31   -0.606121\n",
       "Freq: M, dtype: float64"
      ]
     },
     "execution_count": 38,
     "metadata": {},
     "output_type": "execute_result"
    }
   ],
   "source": [
    "# period 转换成timestamp\n",
    "pts.to_timestamp(how = 'end')"
   ]
  },
  {
   "cell_type": "markdown",
   "metadata": {},
   "source": [
    "#### 重采样及频率转换\n",
    "*resampling*是将时间序列从一个频率转换到另一个频率的处理过程。\n",
    "* 将从高频率到低频率是 *downsampling*\n",
    "* 将从低频率到高频率是 *upsampling*"
   ]
  },
  {
   "cell_type": "code",
   "execution_count": 39,
   "metadata": {},
   "outputs": [
    {
     "data": {
      "text/plain": [
       "2000-01-31    0.142336\n",
       "2000-02-29    0.021902\n",
       "2000-03-31    0.032181\n",
       "2000-04-30    0.331051\n",
       "Freq: M, dtype: float64"
      ]
     },
     "execution_count": 39,
     "metadata": {},
     "output_type": "execute_result"
    }
   ],
   "source": [
    "# pandas对象自带resample方法，是各种频率转换工作的主力函数\n",
    "rng = pd.date_range('1/1/2000', periods = 100, freq = 'D')\n",
    "ts = Series(np.random.randn(len(rng)), index = rng)\n",
    "ts.resample('M').mean()"
   ]
  },
  {
   "cell_type": "code",
   "execution_count": 41,
   "metadata": {},
   "outputs": [
    {
     "data": {
      "text/plain": [
       "2000-01    0.142336\n",
       "2000-02    0.021902\n",
       "2000-03    0.032181\n",
       "2000-04    0.331051\n",
       "Freq: M, dtype: float64"
      ]
     },
     "execution_count": 41,
     "metadata": {},
     "output_type": "execute_result"
    }
   ],
   "source": [
    "ts.resample('M', kind = 'period').mean()  # 你看瞬间转成period"
   ]
  },
  {
   "cell_type": "markdown",
   "metadata": {},
   "source": [
    "#### 降采样\n",
    "**需要聚合**<br>\n",
    "降采样 --面元  ---类似集合的概念\n",
    "* 各区间哪边是闭合的\n",
    "* 如何标记聚合面元，用区间的开头还是末尾"
   ]
  },
  {
   "cell_type": "code",
   "execution_count": 42,
   "metadata": {},
   "outputs": [
    {
     "data": {
      "text/plain": [
       "2000-01-01 00:00:00     0\n",
       "2000-01-01 00:01:00     1\n",
       "2000-01-01 00:02:00     2\n",
       "2000-01-01 00:03:00     3\n",
       "2000-01-01 00:04:00     4\n",
       "2000-01-01 00:05:00     5\n",
       "2000-01-01 00:06:00     6\n",
       "2000-01-01 00:07:00     7\n",
       "2000-01-01 00:08:00     8\n",
       "2000-01-01 00:09:00     9\n",
       "2000-01-01 00:10:00    10\n",
       "2000-01-01 00:11:00    11\n",
       "Freq: T, dtype: int64"
      ]
     },
     "execution_count": 42,
     "metadata": {},
     "output_type": "execute_result"
    }
   ],
   "source": [
    "rng = pd.date_range('1/1/2000', periods = 12, freq = 'T')\n",
    "ts = Series(np.arange(12), index = rng)\n",
    "ts"
   ]
  },
  {
   "cell_type": "code",
   "execution_count": 43,
   "metadata": {},
   "outputs": [
    {
     "data": {
      "text/plain": [
       "2000-01-01 00:00:00    10\n",
       "2000-01-01 00:05:00    35\n",
       "2000-01-01 00:10:00    21\n",
       "Freq: 5T, dtype: int64"
      ]
     },
     "execution_count": 43,
     "metadata": {},
     "output_type": "execute_result"
    }
   ],
   "source": [
    "ts.resample('5T').sum()"
   ]
  },
  {
   "cell_type": "code",
   "execution_count": 46,
   "metadata": {},
   "outputs": [
    {
     "data": {
      "text/plain": [
       "2000-01-01 00:00:00    10\n",
       "2000-01-01 00:05:00    35\n",
       "2000-01-01 00:10:00    21\n",
       "Freq: 5T, dtype: int64"
      ]
     },
     "execution_count": 46,
     "metadata": {},
     "output_type": "execute_result"
    }
   ],
   "source": [
    "ts.resample('5T', closed = 'left', label = 'left').sum()  # 区间那一段闭合，区间标签用哪头？"
   ]
  },
  {
   "cell_type": "code",
   "execution_count": 48,
   "metadata": {},
   "outputs": [
    {
     "data": {
      "text/plain": [
       "1999-12-31 23:59:59    10\n",
       "2000-01-01 00:04:59    35\n",
       "2000-01-01 00:09:59    21\n",
       "Freq: 5T, dtype: int64"
      ]
     },
     "execution_count": 48,
     "metadata": {},
     "output_type": "execute_result"
    }
   ],
   "source": [
    "ts.resample('5T', loffset = '-1s').sum()   # 偏移更清楚"
   ]
  },
  {
   "cell_type": "code",
   "execution_count": 49,
   "metadata": {},
   "outputs": [
    {
     "data": {
      "text/html": [
       "<div>\n",
       "<style>\n",
       "    .dataframe thead tr:only-child th {\n",
       "        text-align: right;\n",
       "    }\n",
       "\n",
       "    .dataframe thead th {\n",
       "        text-align: left;\n",
       "    }\n",
       "\n",
       "    .dataframe tbody tr th {\n",
       "        vertical-align: top;\n",
       "    }\n",
       "</style>\n",
       "<table border=\"1\" class=\"dataframe\">\n",
       "  <thead>\n",
       "    <tr style=\"text-align: right;\">\n",
       "      <th></th>\n",
       "      <th>open</th>\n",
       "      <th>high</th>\n",
       "      <th>low</th>\n",
       "      <th>close</th>\n",
       "    </tr>\n",
       "  </thead>\n",
       "  <tbody>\n",
       "    <tr>\n",
       "      <th>2000-01-01 00:00:00</th>\n",
       "      <td>0</td>\n",
       "      <td>4</td>\n",
       "      <td>0</td>\n",
       "      <td>4</td>\n",
       "    </tr>\n",
       "    <tr>\n",
       "      <th>2000-01-01 00:05:00</th>\n",
       "      <td>5</td>\n",
       "      <td>9</td>\n",
       "      <td>5</td>\n",
       "      <td>9</td>\n",
       "    </tr>\n",
       "    <tr>\n",
       "      <th>2000-01-01 00:10:00</th>\n",
       "      <td>10</td>\n",
       "      <td>11</td>\n",
       "      <td>10</td>\n",
       "      <td>11</td>\n",
       "    </tr>\n",
       "  </tbody>\n",
       "</table>\n",
       "</div>"
      ],
      "text/plain": [
       "                     open  high  low  close\n",
       "2000-01-01 00:00:00     0     4    0      4\n",
       "2000-01-01 00:05:00     5     9    5      9\n",
       "2000-01-01 00:10:00    10    11   10     11"
      ]
     },
     "execution_count": 49,
     "metadata": {},
     "output_type": "execute_result"
    }
   ],
   "source": [
    "# OHLC重抽样\n",
    "ts.resample('5T').ohlc()"
   ]
  },
  {
   "cell_type": "code",
   "execution_count": 50,
   "metadata": {},
   "outputs": [
    {
     "data": {
      "text/plain": [
       "1    15\n",
       "2    45\n",
       "3    75\n",
       "4    95\n",
       "dtype: int64"
      ]
     },
     "execution_count": 50,
     "metadata": {},
     "output_type": "execute_result"
    }
   ],
   "source": [
    "# 通过groupby重抽样\n",
    "rng = pd.date_range('1/1/2000', periods = 100, freq = 'D')\n",
    "ts = Series(np.arange(100), index = rng)\n",
    "ts.groupby(lambda x:x.month).mean()"
   ]
  },
  {
   "cell_type": "code",
   "execution_count": 51,
   "metadata": {},
   "outputs": [
    {
     "data": {
      "text/plain": [
       "0    47.5\n",
       "1    48.5\n",
       "2    49.5\n",
       "3    50.5\n",
       "4    51.5\n",
       "5    49.0\n",
       "6    50.0\n",
       "dtype: float64"
      ]
     },
     "execution_count": 51,
     "metadata": {},
     "output_type": "execute_result"
    }
   ],
   "source": [
    "ts.groupby(lambda x:x.weekday).mean()"
   ]
  },
  {
   "cell_type": "markdown",
   "metadata": {},
   "source": [
    "##### 升采样和插值\n",
    "**不需要聚合，但需要插值**"
   ]
  },
  {
   "cell_type": "code",
   "execution_count": 52,
   "metadata": {},
   "outputs": [
    {
     "data": {
      "text/html": [
       "<div>\n",
       "<style>\n",
       "    .dataframe thead tr:only-child th {\n",
       "        text-align: right;\n",
       "    }\n",
       "\n",
       "    .dataframe thead th {\n",
       "        text-align: left;\n",
       "    }\n",
       "\n",
       "    .dataframe tbody tr th {\n",
       "        vertical-align: top;\n",
       "    }\n",
       "</style>\n",
       "<table border=\"1\" class=\"dataframe\">\n",
       "  <thead>\n",
       "    <tr style=\"text-align: right;\">\n",
       "      <th></th>\n",
       "      <th>Colorado</th>\n",
       "      <th>Texas</th>\n",
       "      <th>New York</th>\n",
       "      <th>Ohio</th>\n",
       "    </tr>\n",
       "  </thead>\n",
       "  <tbody>\n",
       "    <tr>\n",
       "      <th>2000-01-05</th>\n",
       "      <td>0.828929</td>\n",
       "      <td>0.778612</td>\n",
       "      <td>1.016067</td>\n",
       "      <td>-0.104930</td>\n",
       "    </tr>\n",
       "    <tr>\n",
       "      <th>2000-01-12</th>\n",
       "      <td>-1.580543</td>\n",
       "      <td>-1.299263</td>\n",
       "      <td>0.500761</td>\n",
       "      <td>0.901632</td>\n",
       "    </tr>\n",
       "  </tbody>\n",
       "</table>\n",
       "</div>"
      ],
      "text/plain": [
       "            Colorado     Texas  New York      Ohio\n",
       "2000-01-05  0.828929  0.778612  1.016067 -0.104930\n",
       "2000-01-12 -1.580543 -1.299263  0.500761  0.901632"
      ]
     },
     "execution_count": 52,
     "metadata": {},
     "output_type": "execute_result"
    }
   ],
   "source": [
    "frame = DataFrame(np.random.randn(2, 4),\n",
    "                 index = pd.date_range('1/1/2000', periods = 2, freq = 'W-WED'),\n",
    "                 columns = ['Colorado', 'Texas', 'New York', 'Ohio'])\n",
    "frame[:5]"
   ]
  },
  {
   "cell_type": "code",
   "execution_count": 56,
   "metadata": {},
   "outputs": [
    {
     "data": {
      "text/html": [
       "<div>\n",
       "<style>\n",
       "    .dataframe thead tr:only-child th {\n",
       "        text-align: right;\n",
       "    }\n",
       "\n",
       "    .dataframe thead th {\n",
       "        text-align: left;\n",
       "    }\n",
       "\n",
       "    .dataframe tbody tr th {\n",
       "        vertical-align: top;\n",
       "    }\n",
       "</style>\n",
       "<table border=\"1\" class=\"dataframe\">\n",
       "  <thead>\n",
       "    <tr style=\"text-align: right;\">\n",
       "      <th></th>\n",
       "      <th>Colorado</th>\n",
       "      <th>Texas</th>\n",
       "      <th>New York</th>\n",
       "      <th>Ohio</th>\n",
       "    </tr>\n",
       "  </thead>\n",
       "  <tbody>\n",
       "    <tr>\n",
       "      <th>2000-01-05</th>\n",
       "      <td>0.828929</td>\n",
       "      <td>0.778612</td>\n",
       "      <td>1.016067</td>\n",
       "      <td>-0.104930</td>\n",
       "    </tr>\n",
       "    <tr>\n",
       "      <th>2000-01-06</th>\n",
       "      <td>0.828929</td>\n",
       "      <td>0.778612</td>\n",
       "      <td>1.016067</td>\n",
       "      <td>-0.104930</td>\n",
       "    </tr>\n",
       "    <tr>\n",
       "      <th>2000-01-07</th>\n",
       "      <td>0.828929</td>\n",
       "      <td>0.778612</td>\n",
       "      <td>1.016067</td>\n",
       "      <td>-0.104930</td>\n",
       "    </tr>\n",
       "    <tr>\n",
       "      <th>2000-01-08</th>\n",
       "      <td>0.828929</td>\n",
       "      <td>0.778612</td>\n",
       "      <td>1.016067</td>\n",
       "      <td>-0.104930</td>\n",
       "    </tr>\n",
       "    <tr>\n",
       "      <th>2000-01-09</th>\n",
       "      <td>0.828929</td>\n",
       "      <td>0.778612</td>\n",
       "      <td>1.016067</td>\n",
       "      <td>-0.104930</td>\n",
       "    </tr>\n",
       "    <tr>\n",
       "      <th>2000-01-10</th>\n",
       "      <td>0.828929</td>\n",
       "      <td>0.778612</td>\n",
       "      <td>1.016067</td>\n",
       "      <td>-0.104930</td>\n",
       "    </tr>\n",
       "    <tr>\n",
       "      <th>2000-01-11</th>\n",
       "      <td>0.828929</td>\n",
       "      <td>0.778612</td>\n",
       "      <td>1.016067</td>\n",
       "      <td>-0.104930</td>\n",
       "    </tr>\n",
       "    <tr>\n",
       "      <th>2000-01-12</th>\n",
       "      <td>-1.580543</td>\n",
       "      <td>-1.299263</td>\n",
       "      <td>0.500761</td>\n",
       "      <td>0.901632</td>\n",
       "    </tr>\n",
       "  </tbody>\n",
       "</table>\n",
       "</div>"
      ],
      "text/plain": [
       "            Colorado     Texas  New York      Ohio\n",
       "2000-01-05  0.828929  0.778612  1.016067 -0.104930\n",
       "2000-01-06  0.828929  0.778612  1.016067 -0.104930\n",
       "2000-01-07  0.828929  0.778612  1.016067 -0.104930\n",
       "2000-01-08  0.828929  0.778612  1.016067 -0.104930\n",
       "2000-01-09  0.828929  0.778612  1.016067 -0.104930\n",
       "2000-01-10  0.828929  0.778612  1.016067 -0.104930\n",
       "2000-01-11  0.828929  0.778612  1.016067 -0.104930\n",
       "2000-01-12 -1.580543 -1.299263  0.500761  0.901632"
      ]
     },
     "execution_count": 56,
     "metadata": {},
     "output_type": "execute_result"
    }
   ],
   "source": [
    "frame.resample('D').ffill()  # 向前填充"
   ]
  },
  {
   "cell_type": "code",
   "execution_count": 57,
   "metadata": {},
   "outputs": [
    {
     "data": {
      "text/html": [
       "<div>\n",
       "<style>\n",
       "    .dataframe thead tr:only-child th {\n",
       "        text-align: right;\n",
       "    }\n",
       "\n",
       "    .dataframe thead th {\n",
       "        text-align: left;\n",
       "    }\n",
       "\n",
       "    .dataframe tbody tr th {\n",
       "        vertical-align: top;\n",
       "    }\n",
       "</style>\n",
       "<table border=\"1\" class=\"dataframe\">\n",
       "  <thead>\n",
       "    <tr style=\"text-align: right;\">\n",
       "      <th></th>\n",
       "      <th>Colorado</th>\n",
       "      <th>Texas</th>\n",
       "      <th>New York</th>\n",
       "      <th>Ohio</th>\n",
       "    </tr>\n",
       "  </thead>\n",
       "  <tbody>\n",
       "    <tr>\n",
       "      <th>2000-01-05</th>\n",
       "      <td>0.828929</td>\n",
       "      <td>0.778612</td>\n",
       "      <td>1.016067</td>\n",
       "      <td>-0.104930</td>\n",
       "    </tr>\n",
       "    <tr>\n",
       "      <th>2000-01-06</th>\n",
       "      <td>-1.580543</td>\n",
       "      <td>-1.299263</td>\n",
       "      <td>0.500761</td>\n",
       "      <td>0.901632</td>\n",
       "    </tr>\n",
       "    <tr>\n",
       "      <th>2000-01-07</th>\n",
       "      <td>-1.580543</td>\n",
       "      <td>-1.299263</td>\n",
       "      <td>0.500761</td>\n",
       "      <td>0.901632</td>\n",
       "    </tr>\n",
       "    <tr>\n",
       "      <th>2000-01-08</th>\n",
       "      <td>-1.580543</td>\n",
       "      <td>-1.299263</td>\n",
       "      <td>0.500761</td>\n",
       "      <td>0.901632</td>\n",
       "    </tr>\n",
       "    <tr>\n",
       "      <th>2000-01-09</th>\n",
       "      <td>-1.580543</td>\n",
       "      <td>-1.299263</td>\n",
       "      <td>0.500761</td>\n",
       "      <td>0.901632</td>\n",
       "    </tr>\n",
       "    <tr>\n",
       "      <th>2000-01-10</th>\n",
       "      <td>-1.580543</td>\n",
       "      <td>-1.299263</td>\n",
       "      <td>0.500761</td>\n",
       "      <td>0.901632</td>\n",
       "    </tr>\n",
       "    <tr>\n",
       "      <th>2000-01-11</th>\n",
       "      <td>-1.580543</td>\n",
       "      <td>-1.299263</td>\n",
       "      <td>0.500761</td>\n",
       "      <td>0.901632</td>\n",
       "    </tr>\n",
       "    <tr>\n",
       "      <th>2000-01-12</th>\n",
       "      <td>-1.580543</td>\n",
       "      <td>-1.299263</td>\n",
       "      <td>0.500761</td>\n",
       "      <td>0.901632</td>\n",
       "    </tr>\n",
       "  </tbody>\n",
       "</table>\n",
       "</div>"
      ],
      "text/plain": [
       "            Colorado     Texas  New York      Ohio\n",
       "2000-01-05  0.828929  0.778612  1.016067 -0.104930\n",
       "2000-01-06 -1.580543 -1.299263  0.500761  0.901632\n",
       "2000-01-07 -1.580543 -1.299263  0.500761  0.901632\n",
       "2000-01-08 -1.580543 -1.299263  0.500761  0.901632\n",
       "2000-01-09 -1.580543 -1.299263  0.500761  0.901632\n",
       "2000-01-10 -1.580543 -1.299263  0.500761  0.901632\n",
       "2000-01-11 -1.580543 -1.299263  0.500761  0.901632\n",
       "2000-01-12 -1.580543 -1.299263  0.500761  0.901632"
      ]
     },
     "execution_count": 57,
     "metadata": {},
     "output_type": "execute_result"
    }
   ],
   "source": [
    "frame.resample('D').bfill()  # 向后填充"
   ]
  },
  {
   "cell_type": "code",
   "execution_count": 61,
   "metadata": {},
   "outputs": [
    {
     "data": {
      "text/html": [
       "<div>\n",
       "<style>\n",
       "    .dataframe thead tr:only-child th {\n",
       "        text-align: right;\n",
       "    }\n",
       "\n",
       "    .dataframe thead th {\n",
       "        text-align: left;\n",
       "    }\n",
       "\n",
       "    .dataframe tbody tr th {\n",
       "        vertical-align: top;\n",
       "    }\n",
       "</style>\n",
       "<table border=\"1\" class=\"dataframe\">\n",
       "  <thead>\n",
       "    <tr style=\"text-align: right;\">\n",
       "      <th></th>\n",
       "      <th>Colorado</th>\n",
       "      <th>Texas</th>\n",
       "      <th>New York</th>\n",
       "      <th>Ohio</th>\n",
       "    </tr>\n",
       "  </thead>\n",
       "  <tbody>\n",
       "    <tr>\n",
       "      <th>2000-01-05</th>\n",
       "      <td>0.828929</td>\n",
       "      <td>0.778612</td>\n",
       "      <td>1.016067</td>\n",
       "      <td>-0.104930</td>\n",
       "    </tr>\n",
       "    <tr>\n",
       "      <th>2000-01-06</th>\n",
       "      <td>0.828929</td>\n",
       "      <td>0.778612</td>\n",
       "      <td>1.016067</td>\n",
       "      <td>-0.104930</td>\n",
       "    </tr>\n",
       "    <tr>\n",
       "      <th>2000-01-07</th>\n",
       "      <td>0.828929</td>\n",
       "      <td>0.778612</td>\n",
       "      <td>1.016067</td>\n",
       "      <td>-0.104930</td>\n",
       "    </tr>\n",
       "    <tr>\n",
       "      <th>2000-01-08</th>\n",
       "      <td>NaN</td>\n",
       "      <td>NaN</td>\n",
       "      <td>NaN</td>\n",
       "      <td>NaN</td>\n",
       "    </tr>\n",
       "    <tr>\n",
       "      <th>2000-01-09</th>\n",
       "      <td>NaN</td>\n",
       "      <td>NaN</td>\n",
       "      <td>NaN</td>\n",
       "      <td>NaN</td>\n",
       "    </tr>\n",
       "    <tr>\n",
       "      <th>2000-01-10</th>\n",
       "      <td>NaN</td>\n",
       "      <td>NaN</td>\n",
       "      <td>NaN</td>\n",
       "      <td>NaN</td>\n",
       "    </tr>\n",
       "    <tr>\n",
       "      <th>2000-01-11</th>\n",
       "      <td>NaN</td>\n",
       "      <td>NaN</td>\n",
       "      <td>NaN</td>\n",
       "      <td>NaN</td>\n",
       "    </tr>\n",
       "    <tr>\n",
       "      <th>2000-01-12</th>\n",
       "      <td>-1.580543</td>\n",
       "      <td>-1.299263</td>\n",
       "      <td>0.500761</td>\n",
       "      <td>0.901632</td>\n",
       "    </tr>\n",
       "  </tbody>\n",
       "</table>\n",
       "</div>"
      ],
      "text/plain": [
       "            Colorado     Texas  New York      Ohio\n",
       "2000-01-05  0.828929  0.778612  1.016067 -0.104930\n",
       "2000-01-06  0.828929  0.778612  1.016067 -0.104930\n",
       "2000-01-07  0.828929  0.778612  1.016067 -0.104930\n",
       "2000-01-08       NaN       NaN       NaN       NaN\n",
       "2000-01-09       NaN       NaN       NaN       NaN\n",
       "2000-01-10       NaN       NaN       NaN       NaN\n",
       "2000-01-11       NaN       NaN       NaN       NaN\n",
       "2000-01-12 -1.580543 -1.299263  0.500761  0.901632"
      ]
     },
     "execution_count": 61,
     "metadata": {},
     "output_type": "execute_result"
    }
   ],
   "source": [
    "frame.resample('D').ffill(2)  # limit = 2"
   ]
  },
  {
   "cell_type": "code",
   "execution_count": 69,
   "metadata": {},
   "outputs": [
    {
     "data": {
      "text/html": [
       "<div>\n",
       "<style>\n",
       "    .dataframe thead tr:only-child th {\n",
       "        text-align: right;\n",
       "    }\n",
       "\n",
       "    .dataframe thead th {\n",
       "        text-align: left;\n",
       "    }\n",
       "\n",
       "    .dataframe tbody tr th {\n",
       "        vertical-align: top;\n",
       "    }\n",
       "</style>\n",
       "<table border=\"1\" class=\"dataframe\">\n",
       "  <thead>\n",
       "    <tr style=\"text-align: right;\">\n",
       "      <th></th>\n",
       "      <th>Colorado</th>\n",
       "      <th>Texas</th>\n",
       "      <th>New York</th>\n",
       "      <th>Ohio</th>\n",
       "    </tr>\n",
       "  </thead>\n",
       "  <tbody>\n",
       "    <tr>\n",
       "      <th>2000-01</th>\n",
       "      <td>-0.245695</td>\n",
       "      <td>0.076092</td>\n",
       "      <td>0.072685</td>\n",
       "      <td>-0.631415</td>\n",
       "    </tr>\n",
       "    <tr>\n",
       "      <th>2000-02</th>\n",
       "      <td>-1.925340</td>\n",
       "      <td>-0.929974</td>\n",
       "      <td>-0.959440</td>\n",
       "      <td>-1.667552</td>\n",
       "    </tr>\n",
       "    <tr>\n",
       "      <th>2000-03</th>\n",
       "      <td>0.786333</td>\n",
       "      <td>0.200772</td>\n",
       "      <td>0.230920</td>\n",
       "      <td>0.806143</td>\n",
       "    </tr>\n",
       "    <tr>\n",
       "      <th>2000-04</th>\n",
       "      <td>-0.649397</td>\n",
       "      <td>0.729617</td>\n",
       "      <td>-1.219244</td>\n",
       "      <td>-1.870290</td>\n",
       "    </tr>\n",
       "    <tr>\n",
       "      <th>2000-05</th>\n",
       "      <td>0.168216</td>\n",
       "      <td>0.929347</td>\n",
       "      <td>2.625855</td>\n",
       "      <td>-0.923856</td>\n",
       "    </tr>\n",
       "  </tbody>\n",
       "</table>\n",
       "</div>"
      ],
      "text/plain": [
       "         Colorado     Texas  New York      Ohio\n",
       "2000-01 -0.245695  0.076092  0.072685 -0.631415\n",
       "2000-02 -1.925340 -0.929974 -0.959440 -1.667552\n",
       "2000-03  0.786333  0.200772  0.230920  0.806143\n",
       "2000-04 -0.649397  0.729617 -1.219244 -1.870290\n",
       "2000-05  0.168216  0.929347  2.625855 -0.923856"
      ]
     },
     "execution_count": 69,
     "metadata": {},
     "output_type": "execute_result"
    }
   ],
   "source": [
    "frame = DataFrame(np.random.randn(24, 4),\n",
    "                 index = pd.period_range('1-2000', '12-2001', freq = 'M'),\n",
    "                 columns = ['Colorado','Texas','New York','Ohio'])\n",
    "frame[:5]"
   ]
  },
  {
   "cell_type": "code",
   "execution_count": 71,
   "metadata": {},
   "outputs": [
    {
     "data": {
      "text/html": [
       "<div>\n",
       "<style>\n",
       "    .dataframe thead tr:only-child th {\n",
       "        text-align: right;\n",
       "    }\n",
       "\n",
       "    .dataframe thead th {\n",
       "        text-align: left;\n",
       "    }\n",
       "\n",
       "    .dataframe tbody tr th {\n",
       "        vertical-align: top;\n",
       "    }\n",
       "</style>\n",
       "<table border=\"1\" class=\"dataframe\">\n",
       "  <thead>\n",
       "    <tr style=\"text-align: right;\">\n",
       "      <th></th>\n",
       "      <th>Colorado</th>\n",
       "      <th>Texas</th>\n",
       "      <th>New York</th>\n",
       "      <th>Ohio</th>\n",
       "    </tr>\n",
       "  </thead>\n",
       "  <tbody>\n",
       "    <tr>\n",
       "      <th>2000</th>\n",
       "      <td>-0.396596</td>\n",
       "      <td>0.006095</td>\n",
       "      <td>0.053935</td>\n",
       "      <td>-0.164844</td>\n",
       "    </tr>\n",
       "    <tr>\n",
       "      <th>2001</th>\n",
       "      <td>0.035106</td>\n",
       "      <td>-0.088437</td>\n",
       "      <td>-0.096854</td>\n",
       "      <td>-0.114813</td>\n",
       "    </tr>\n",
       "  </tbody>\n",
       "</table>\n",
       "</div>"
      ],
      "text/plain": [
       "      Colorado     Texas  New York      Ohio\n",
       "2000 -0.396596  0.006095  0.053935 -0.164844\n",
       "2001  0.035106 -0.088437 -0.096854 -0.114813"
      ]
     },
     "execution_count": 71,
     "metadata": {},
     "output_type": "execute_result"
    }
   ],
   "source": [
    "annual_frame = frame.resample('A-DEC').mean()\n",
    "annual_frame"
   ]
  },
  {
   "cell_type": "code",
   "execution_count": 73,
   "metadata": {},
   "outputs": [
    {
     "data": {
      "text/html": [
       "<div>\n",
       "<style>\n",
       "    .dataframe thead tr:only-child th {\n",
       "        text-align: right;\n",
       "    }\n",
       "\n",
       "    .dataframe thead th {\n",
       "        text-align: left;\n",
       "    }\n",
       "\n",
       "    .dataframe tbody tr th {\n",
       "        vertical-align: top;\n",
       "    }\n",
       "</style>\n",
       "<table border=\"1\" class=\"dataframe\">\n",
       "  <thead>\n",
       "    <tr style=\"text-align: right;\">\n",
       "      <th></th>\n",
       "      <th>Colorado</th>\n",
       "      <th>Texas</th>\n",
       "      <th>New York</th>\n",
       "      <th>Ohio</th>\n",
       "    </tr>\n",
       "  </thead>\n",
       "  <tbody>\n",
       "    <tr>\n",
       "      <th>2000Q1</th>\n",
       "      <td>-0.396596</td>\n",
       "      <td>0.006095</td>\n",
       "      <td>0.053935</td>\n",
       "      <td>-0.164844</td>\n",
       "    </tr>\n",
       "    <tr>\n",
       "      <th>2000Q2</th>\n",
       "      <td>-0.396596</td>\n",
       "      <td>0.006095</td>\n",
       "      <td>0.053935</td>\n",
       "      <td>-0.164844</td>\n",
       "    </tr>\n",
       "    <tr>\n",
       "      <th>2000Q3</th>\n",
       "      <td>-0.396596</td>\n",
       "      <td>0.006095</td>\n",
       "      <td>0.053935</td>\n",
       "      <td>-0.164844</td>\n",
       "    </tr>\n",
       "    <tr>\n",
       "      <th>2000Q4</th>\n",
       "      <td>-0.396596</td>\n",
       "      <td>0.006095</td>\n",
       "      <td>0.053935</td>\n",
       "      <td>-0.164844</td>\n",
       "    </tr>\n",
       "    <tr>\n",
       "      <th>2001Q1</th>\n",
       "      <td>0.035106</td>\n",
       "      <td>-0.088437</td>\n",
       "      <td>-0.096854</td>\n",
       "      <td>-0.114813</td>\n",
       "    </tr>\n",
       "    <tr>\n",
       "      <th>2001Q2</th>\n",
       "      <td>0.035106</td>\n",
       "      <td>-0.088437</td>\n",
       "      <td>-0.096854</td>\n",
       "      <td>-0.114813</td>\n",
       "    </tr>\n",
       "    <tr>\n",
       "      <th>2001Q3</th>\n",
       "      <td>0.035106</td>\n",
       "      <td>-0.088437</td>\n",
       "      <td>-0.096854</td>\n",
       "      <td>-0.114813</td>\n",
       "    </tr>\n",
       "    <tr>\n",
       "      <th>2001Q4</th>\n",
       "      <td>0.035106</td>\n",
       "      <td>-0.088437</td>\n",
       "      <td>-0.096854</td>\n",
       "      <td>-0.114813</td>\n",
       "    </tr>\n",
       "  </tbody>\n",
       "</table>\n",
       "</div>"
      ],
      "text/plain": [
       "        Colorado     Texas  New York      Ohio\n",
       "2000Q1 -0.396596  0.006095  0.053935 -0.164844\n",
       "2000Q2 -0.396596  0.006095  0.053935 -0.164844\n",
       "2000Q3 -0.396596  0.006095  0.053935 -0.164844\n",
       "2000Q4 -0.396596  0.006095  0.053935 -0.164844\n",
       "2001Q1  0.035106 -0.088437 -0.096854 -0.114813\n",
       "2001Q2  0.035106 -0.088437 -0.096854 -0.114813\n",
       "2001Q3  0.035106 -0.088437 -0.096854 -0.114813\n",
       "2001Q4  0.035106 -0.088437 -0.096854 -0.114813"
      ]
     },
     "execution_count": 73,
     "metadata": {},
     "output_type": "execute_result"
    }
   ],
   "source": [
    "annual_frame.resample('Q-DEC', convention = 'start').ffill()"
   ]
  },
  {
   "cell_type": "markdown",
   "metadata": {},
   "source": [
    "#### 时间序列绘图"
   ]
  },
  {
   "cell_type": "code",
   "execution_count": 75,
   "metadata": {
    "scrolled": true
   },
   "outputs": [
    {
     "data": {
      "text/html": [
       "<div>\n",
       "<style>\n",
       "    .dataframe thead tr:only-child th {\n",
       "        text-align: right;\n",
       "    }\n",
       "\n",
       "    .dataframe thead th {\n",
       "        text-align: left;\n",
       "    }\n",
       "\n",
       "    .dataframe tbody tr th {\n",
       "        vertical-align: top;\n",
       "    }\n",
       "</style>\n",
       "<table border=\"1\" class=\"dataframe\">\n",
       "  <thead>\n",
       "    <tr style=\"text-align: right;\">\n",
       "      <th></th>\n",
       "      <th>AAPL</th>\n",
       "      <th>MSFT</th>\n",
       "      <th>XOM</th>\n",
       "    </tr>\n",
       "  </thead>\n",
       "  <tbody>\n",
       "    <tr>\n",
       "      <th>2003-01-02</th>\n",
       "      <td>7.40</td>\n",
       "      <td>21.11</td>\n",
       "      <td>29.22</td>\n",
       "    </tr>\n",
       "    <tr>\n",
       "      <th>2003-01-03</th>\n",
       "      <td>7.45</td>\n",
       "      <td>21.14</td>\n",
       "      <td>29.24</td>\n",
       "    </tr>\n",
       "    <tr>\n",
       "      <th>2003-01-06</th>\n",
       "      <td>7.45</td>\n",
       "      <td>21.52</td>\n",
       "      <td>29.96</td>\n",
       "    </tr>\n",
       "    <tr>\n",
       "      <th>2003-01-07</th>\n",
       "      <td>7.43</td>\n",
       "      <td>21.93</td>\n",
       "      <td>28.95</td>\n",
       "    </tr>\n",
       "    <tr>\n",
       "      <th>2003-01-08</th>\n",
       "      <td>7.28</td>\n",
       "      <td>21.31</td>\n",
       "      <td>28.83</td>\n",
       "    </tr>\n",
       "    <tr>\n",
       "      <th>2003-01-09</th>\n",
       "      <td>7.34</td>\n",
       "      <td>21.93</td>\n",
       "      <td>29.44</td>\n",
       "    </tr>\n",
       "    <tr>\n",
       "      <th>2003-01-10</th>\n",
       "      <td>7.36</td>\n",
       "      <td>21.97</td>\n",
       "      <td>29.03</td>\n",
       "    </tr>\n",
       "    <tr>\n",
       "      <th>2003-01-13</th>\n",
       "      <td>7.32</td>\n",
       "      <td>22.16</td>\n",
       "      <td>28.91</td>\n",
       "    </tr>\n",
       "    <tr>\n",
       "      <th>2003-01-14</th>\n",
       "      <td>7.30</td>\n",
       "      <td>22.39</td>\n",
       "      <td>29.17</td>\n",
       "    </tr>\n",
       "    <tr>\n",
       "      <th>2003-01-15</th>\n",
       "      <td>7.22</td>\n",
       "      <td>22.11</td>\n",
       "      <td>28.77</td>\n",
       "    </tr>\n",
       "    <tr>\n",
       "      <th>2003-01-16</th>\n",
       "      <td>7.31</td>\n",
       "      <td>21.75</td>\n",
       "      <td>28.90</td>\n",
       "    </tr>\n",
       "    <tr>\n",
       "      <th>2003-01-17</th>\n",
       "      <td>7.05</td>\n",
       "      <td>20.22</td>\n",
       "      <td>28.60</td>\n",
       "    </tr>\n",
       "    <tr>\n",
       "      <th>2003-01-20</th>\n",
       "      <td>7.05</td>\n",
       "      <td>20.22</td>\n",
       "      <td>28.60</td>\n",
       "    </tr>\n",
       "    <tr>\n",
       "      <th>2003-01-21</th>\n",
       "      <td>7.01</td>\n",
       "      <td>20.17</td>\n",
       "      <td>27.94</td>\n",
       "    </tr>\n",
       "    <tr>\n",
       "      <th>2003-01-22</th>\n",
       "      <td>6.94</td>\n",
       "      <td>20.04</td>\n",
       "      <td>27.58</td>\n",
       "    </tr>\n",
       "    <tr>\n",
       "      <th>2003-01-23</th>\n",
       "      <td>7.09</td>\n",
       "      <td>20.54</td>\n",
       "      <td>27.52</td>\n",
       "    </tr>\n",
       "    <tr>\n",
       "      <th>2003-01-24</th>\n",
       "      <td>6.90</td>\n",
       "      <td>19.59</td>\n",
       "      <td>26.93</td>\n",
       "    </tr>\n",
       "    <tr>\n",
       "      <th>2003-01-27</th>\n",
       "      <td>7.07</td>\n",
       "      <td>19.32</td>\n",
       "      <td>26.21</td>\n",
       "    </tr>\n",
       "    <tr>\n",
       "      <th>2003-01-28</th>\n",
       "      <td>7.29</td>\n",
       "      <td>19.18</td>\n",
       "      <td>26.90</td>\n",
       "    </tr>\n",
       "    <tr>\n",
       "      <th>2003-01-29</th>\n",
       "      <td>7.47</td>\n",
       "      <td>19.61</td>\n",
       "      <td>27.88</td>\n",
       "    </tr>\n",
       "    <tr>\n",
       "      <th>2003-01-30</th>\n",
       "      <td>7.16</td>\n",
       "      <td>18.95</td>\n",
       "      <td>27.37</td>\n",
       "    </tr>\n",
       "    <tr>\n",
       "      <th>2003-01-31</th>\n",
       "      <td>7.18</td>\n",
       "      <td>18.65</td>\n",
       "      <td>28.13</td>\n",
       "    </tr>\n",
       "    <tr>\n",
       "      <th>2003-02-03</th>\n",
       "      <td>7.33</td>\n",
       "      <td>19.08</td>\n",
       "      <td>28.52</td>\n",
       "    </tr>\n",
       "    <tr>\n",
       "      <th>2003-02-04</th>\n",
       "      <td>7.30</td>\n",
       "      <td>18.59</td>\n",
       "      <td>28.52</td>\n",
       "    </tr>\n",
       "    <tr>\n",
       "      <th>2003-02-05</th>\n",
       "      <td>7.22</td>\n",
       "      <td>18.45</td>\n",
       "      <td>28.11</td>\n",
       "    </tr>\n",
       "    <tr>\n",
       "      <th>2003-02-06</th>\n",
       "      <td>7.22</td>\n",
       "      <td>18.63</td>\n",
       "      <td>27.87</td>\n",
       "    </tr>\n",
       "    <tr>\n",
       "      <th>2003-02-07</th>\n",
       "      <td>7.07</td>\n",
       "      <td>18.30</td>\n",
       "      <td>27.66</td>\n",
       "    </tr>\n",
       "    <tr>\n",
       "      <th>2003-02-10</th>\n",
       "      <td>7.18</td>\n",
       "      <td>18.62</td>\n",
       "      <td>27.87</td>\n",
       "    </tr>\n",
       "    <tr>\n",
       "      <th>2003-02-11</th>\n",
       "      <td>7.18</td>\n",
       "      <td>18.25</td>\n",
       "      <td>27.67</td>\n",
       "    </tr>\n",
       "    <tr>\n",
       "      <th>2003-02-12</th>\n",
       "      <td>7.20</td>\n",
       "      <td>18.25</td>\n",
       "      <td>27.12</td>\n",
       "    </tr>\n",
       "    <tr>\n",
       "      <th>...</th>\n",
       "      <td>...</td>\n",
       "      <td>...</td>\n",
       "      <td>...</td>\n",
       "    </tr>\n",
       "    <tr>\n",
       "      <th>2011-09-05</th>\n",
       "      <td>374.05</td>\n",
       "      <td>25.80</td>\n",
       "      <td>72.14</td>\n",
       "    </tr>\n",
       "    <tr>\n",
       "      <th>2011-09-06</th>\n",
       "      <td>379.74</td>\n",
       "      <td>25.51</td>\n",
       "      <td>71.15</td>\n",
       "    </tr>\n",
       "    <tr>\n",
       "      <th>2011-09-07</th>\n",
       "      <td>383.93</td>\n",
       "      <td>26.00</td>\n",
       "      <td>73.65</td>\n",
       "    </tr>\n",
       "    <tr>\n",
       "      <th>2011-09-08</th>\n",
       "      <td>384.14</td>\n",
       "      <td>26.22</td>\n",
       "      <td>72.82</td>\n",
       "    </tr>\n",
       "    <tr>\n",
       "      <th>2011-09-09</th>\n",
       "      <td>377.48</td>\n",
       "      <td>25.74</td>\n",
       "      <td>71.01</td>\n",
       "    </tr>\n",
       "    <tr>\n",
       "      <th>2011-09-12</th>\n",
       "      <td>379.94</td>\n",
       "      <td>25.89</td>\n",
       "      <td>71.84</td>\n",
       "    </tr>\n",
       "    <tr>\n",
       "      <th>2011-09-13</th>\n",
       "      <td>384.62</td>\n",
       "      <td>26.04</td>\n",
       "      <td>71.65</td>\n",
       "    </tr>\n",
       "    <tr>\n",
       "      <th>2011-09-14</th>\n",
       "      <td>389.30</td>\n",
       "      <td>26.50</td>\n",
       "      <td>72.64</td>\n",
       "    </tr>\n",
       "    <tr>\n",
       "      <th>2011-09-15</th>\n",
       "      <td>392.96</td>\n",
       "      <td>26.99</td>\n",
       "      <td>74.01</td>\n",
       "    </tr>\n",
       "    <tr>\n",
       "      <th>2011-09-16</th>\n",
       "      <td>400.50</td>\n",
       "      <td>27.12</td>\n",
       "      <td>74.55</td>\n",
       "    </tr>\n",
       "    <tr>\n",
       "      <th>2011-09-19</th>\n",
       "      <td>411.63</td>\n",
       "      <td>27.21</td>\n",
       "      <td>73.70</td>\n",
       "    </tr>\n",
       "    <tr>\n",
       "      <th>2011-09-20</th>\n",
       "      <td>413.45</td>\n",
       "      <td>26.98</td>\n",
       "      <td>74.01</td>\n",
       "    </tr>\n",
       "    <tr>\n",
       "      <th>2011-09-21</th>\n",
       "      <td>412.14</td>\n",
       "      <td>25.99</td>\n",
       "      <td>71.97</td>\n",
       "    </tr>\n",
       "    <tr>\n",
       "      <th>2011-09-22</th>\n",
       "      <td>401.82</td>\n",
       "      <td>25.06</td>\n",
       "      <td>69.24</td>\n",
       "    </tr>\n",
       "    <tr>\n",
       "      <th>2011-09-23</th>\n",
       "      <td>404.30</td>\n",
       "      <td>25.06</td>\n",
       "      <td>69.31</td>\n",
       "    </tr>\n",
       "    <tr>\n",
       "      <th>2011-09-26</th>\n",
       "      <td>403.17</td>\n",
       "      <td>25.44</td>\n",
       "      <td>71.72</td>\n",
       "    </tr>\n",
       "    <tr>\n",
       "      <th>2011-09-27</th>\n",
       "      <td>399.26</td>\n",
       "      <td>25.67</td>\n",
       "      <td>72.91</td>\n",
       "    </tr>\n",
       "    <tr>\n",
       "      <th>2011-09-28</th>\n",
       "      <td>397.01</td>\n",
       "      <td>25.58</td>\n",
       "      <td>72.07</td>\n",
       "    </tr>\n",
       "    <tr>\n",
       "      <th>2011-09-29</th>\n",
       "      <td>390.57</td>\n",
       "      <td>25.45</td>\n",
       "      <td>73.88</td>\n",
       "    </tr>\n",
       "    <tr>\n",
       "      <th>2011-09-30</th>\n",
       "      <td>381.32</td>\n",
       "      <td>24.89</td>\n",
       "      <td>72.63</td>\n",
       "    </tr>\n",
       "    <tr>\n",
       "      <th>2011-10-03</th>\n",
       "      <td>374.60</td>\n",
       "      <td>24.53</td>\n",
       "      <td>71.15</td>\n",
       "    </tr>\n",
       "    <tr>\n",
       "      <th>2011-10-04</th>\n",
       "      <td>372.50</td>\n",
       "      <td>25.34</td>\n",
       "      <td>72.83</td>\n",
       "    </tr>\n",
       "    <tr>\n",
       "      <th>2011-10-05</th>\n",
       "      <td>378.25</td>\n",
       "      <td>25.89</td>\n",
       "      <td>73.95</td>\n",
       "    </tr>\n",
       "    <tr>\n",
       "      <th>2011-10-06</th>\n",
       "      <td>377.37</td>\n",
       "      <td>26.34</td>\n",
       "      <td>73.89</td>\n",
       "    </tr>\n",
       "    <tr>\n",
       "      <th>2011-10-07</th>\n",
       "      <td>369.80</td>\n",
       "      <td>26.25</td>\n",
       "      <td>73.56</td>\n",
       "    </tr>\n",
       "    <tr>\n",
       "      <th>2011-10-10</th>\n",
       "      <td>388.81</td>\n",
       "      <td>26.94</td>\n",
       "      <td>76.28</td>\n",
       "    </tr>\n",
       "    <tr>\n",
       "      <th>2011-10-11</th>\n",
       "      <td>400.29</td>\n",
       "      <td>27.00</td>\n",
       "      <td>76.27</td>\n",
       "    </tr>\n",
       "    <tr>\n",
       "      <th>2011-10-12</th>\n",
       "      <td>402.19</td>\n",
       "      <td>26.96</td>\n",
       "      <td>77.16</td>\n",
       "    </tr>\n",
       "    <tr>\n",
       "      <th>2011-10-13</th>\n",
       "      <td>408.43</td>\n",
       "      <td>27.18</td>\n",
       "      <td>76.37</td>\n",
       "    </tr>\n",
       "    <tr>\n",
       "      <th>2011-10-14</th>\n",
       "      <td>422.00</td>\n",
       "      <td>27.27</td>\n",
       "      <td>78.11</td>\n",
       "    </tr>\n",
       "  </tbody>\n",
       "</table>\n",
       "<p>2292 rows × 3 columns</p>\n",
       "</div>"
      ],
      "text/plain": [
       "              AAPL   MSFT    XOM\n",
       "2003-01-02    7.40  21.11  29.22\n",
       "2003-01-03    7.45  21.14  29.24\n",
       "2003-01-06    7.45  21.52  29.96\n",
       "2003-01-07    7.43  21.93  28.95\n",
       "2003-01-08    7.28  21.31  28.83\n",
       "2003-01-09    7.34  21.93  29.44\n",
       "2003-01-10    7.36  21.97  29.03\n",
       "2003-01-13    7.32  22.16  28.91\n",
       "2003-01-14    7.30  22.39  29.17\n",
       "2003-01-15    7.22  22.11  28.77\n",
       "2003-01-16    7.31  21.75  28.90\n",
       "2003-01-17    7.05  20.22  28.60\n",
       "2003-01-20    7.05  20.22  28.60\n",
       "2003-01-21    7.01  20.17  27.94\n",
       "2003-01-22    6.94  20.04  27.58\n",
       "2003-01-23    7.09  20.54  27.52\n",
       "2003-01-24    6.90  19.59  26.93\n",
       "2003-01-27    7.07  19.32  26.21\n",
       "2003-01-28    7.29  19.18  26.90\n",
       "2003-01-29    7.47  19.61  27.88\n",
       "2003-01-30    7.16  18.95  27.37\n",
       "2003-01-31    7.18  18.65  28.13\n",
       "2003-02-03    7.33  19.08  28.52\n",
       "2003-02-04    7.30  18.59  28.52\n",
       "2003-02-05    7.22  18.45  28.11\n",
       "2003-02-06    7.22  18.63  27.87\n",
       "2003-02-07    7.07  18.30  27.66\n",
       "2003-02-10    7.18  18.62  27.87\n",
       "2003-02-11    7.18  18.25  27.67\n",
       "2003-02-12    7.20  18.25  27.12\n",
       "...            ...    ...    ...\n",
       "2011-09-05  374.05  25.80  72.14\n",
       "2011-09-06  379.74  25.51  71.15\n",
       "2011-09-07  383.93  26.00  73.65\n",
       "2011-09-08  384.14  26.22  72.82\n",
       "2011-09-09  377.48  25.74  71.01\n",
       "2011-09-12  379.94  25.89  71.84\n",
       "2011-09-13  384.62  26.04  71.65\n",
       "2011-09-14  389.30  26.50  72.64\n",
       "2011-09-15  392.96  26.99  74.01\n",
       "2011-09-16  400.50  27.12  74.55\n",
       "2011-09-19  411.63  27.21  73.70\n",
       "2011-09-20  413.45  26.98  74.01\n",
       "2011-09-21  412.14  25.99  71.97\n",
       "2011-09-22  401.82  25.06  69.24\n",
       "2011-09-23  404.30  25.06  69.31\n",
       "2011-09-26  403.17  25.44  71.72\n",
       "2011-09-27  399.26  25.67  72.91\n",
       "2011-09-28  397.01  25.58  72.07\n",
       "2011-09-29  390.57  25.45  73.88\n",
       "2011-09-30  381.32  24.89  72.63\n",
       "2011-10-03  374.60  24.53  71.15\n",
       "2011-10-04  372.50  25.34  72.83\n",
       "2011-10-05  378.25  25.89  73.95\n",
       "2011-10-06  377.37  26.34  73.89\n",
       "2011-10-07  369.80  26.25  73.56\n",
       "2011-10-10  388.81  26.94  76.28\n",
       "2011-10-11  400.29  27.00  76.27\n",
       "2011-10-12  402.19  26.96  77.16\n",
       "2011-10-13  408.43  27.18  76.37\n",
       "2011-10-14  422.00  27.27  78.11\n",
       "\n",
       "[2292 rows x 3 columns]"
      ]
     },
     "execution_count": 75,
     "metadata": {},
     "output_type": "execute_result"
    }
   ],
   "source": [
    "close_px_all = pd.read_csv('stock_px.csv', parse_dates = True, index_col = 0)\n",
    "close_px =  close_px_all[['AAPL','MSFT','XOM']]\n",
    "close_px = close_px.resample('B').ffill()\n",
    "close_px"
   ]
  },
  {
   "cell_type": "code",
   "execution_count": 77,
   "metadata": {
    "collapsed": true
   },
   "outputs": [],
   "source": [
    "% matplotlib inline"
   ]
  },
  {
   "cell_type": "code",
   "execution_count": 79,
   "metadata": {},
   "outputs": [
    {
     "data": {
      "text/plain": [
       "<matplotlib.axes._subplots.AxesSubplot at 0x7fdaca362780>"
      ]
     },
     "execution_count": 79,
     "metadata": {},
     "output_type": "execute_result"
    },
    {
     "data": {
      "image/png": "[encoded data removed]",
      "text/plain": [
       "<matplotlib.figure.Figure at 0x7fdaca36d2e8>"
      ]
     },
     "metadata": {},
     "output_type": "display_data"
    }
   ],
   "source": [
    "close_px['AAPL'].plot(figsize = (16,9))"
   ]
  },
  {
   "cell_type": "code",
   "execution_count": 84,
   "metadata": {},
   "outputs": [
    {
     "data": {
      "text/plain": [
       "<matplotlib.axes._subplots.AxesSubplot at 0x7fdac9cc35c0>"
      ]
     },
     "execution_count": 84,
     "metadata": {},
     "output_type": "execute_result"
    },
    {
     "data": {
      "image/png": "[encoded data removed]",
      "text/plain": [
       "<matplotlib.figure.Figure at 0x7fdac9cd42b0>"
      ]
     },
     "metadata": {},
     "output_type": "display_data"
    }
   ],
   "source": [
    "close_px.loc['2009'].plot(figsize = (16 * 0.8, 9 * 0.8))"
   ]
  },
  {
   "cell_type": "markdown",
   "metadata": {},
   "source": [
    "#### 移动窗口函数\n",
    "在移动窗口上计算的各种统计函数是一种常见的时间序列数组变换 --moving window function 包括窗口不定长的函数，自动排除缺失值"
   ]
  },
  {
   "cell_type": "code",
   "execution_count": 102,
   "metadata": {},
   "outputs": [
    {
     "data": {
      "image/png": "[encoded data removed]",
      "text/plain": [
       "<matplotlib.figure.Figure at 0x7fdac3b15828>"
      ]
     },
     "metadata": {},
     "output_type": "display_data"
    }
   ],
   "source": [
    "#  rolling_mean 移动平均  可以加apply\n",
    "import matplotlib.pyplot as plt\n",
    "_ = close_px.AAPL.plot()\n",
    "_ = close_px.AAPL.rolling(250).mean().plot(figsize = (12.8, 7.2))\n",
    "_ = plt.title('250MA')"
   ]
  },
  {
   "cell_type": "code",
   "execution_count": 104,
   "metadata": {},
   "outputs": [
    {
     "data": {
      "image/png": "[encoded data removed]",
      "text/plain": [
       "<matplotlib.figure.Figure at 0x7fdac3c490f0>"
      ]
     },
     "metadata": {},
     "output_type": "display_data"
    }
   ],
   "source": [
    "_ = close_px.AAPL.rolling(250).std().plot(figsize = (12.8, 7.2), grid = True)"
   ]
  },
  {
   "cell_type": "markdown",
   "metadata": {},
   "source": [
    "#### 指数加权函数\n",
    "衰减因子常量--span:使结果兼容于窗口大小等于时间间隔的简单移动窗口函数"
   ]
  },
  {
   "cell_type": "code",
   "execution_count": 109,
   "metadata": {},
   "outputs": [
    {
     "ename": "AttributeError",
     "evalue": "'EWM' object has no attribute 'plot'",
     "output_type": "error",
     "traceback": [
      "\u001b[0;31m---------------------------------------------------------------------------\u001b[0m",
      "\u001b[0;31mAttributeError\u001b[0m                            Traceback (most recent call last)",
      "\u001b[0;32m<ipython-input-109-f3a8e311f599>\u001b[0m in \u001b[0;36m<module>\u001b[0;34m()\u001b[0m\n\u001b[1;32m      7\u001b[0m \u001b[0maxes\u001b[0m\u001b[0;34m[\u001b[0m\u001b[0;36m0\u001b[0m\u001b[0;34m]\u001b[0m\u001b[0;34m.\u001b[0m\u001b[0mset_title\u001b[0m\u001b[0;34m(\u001b[0m\u001b[0;34m'Simple MA'\u001b[0m\u001b[0;34m)\u001b[0m\u001b[0;34m\u001b[0m\u001b[0m\n\u001b[1;32m      8\u001b[0m \u001b[0maapl_px\u001b[0m\u001b[0;34m.\u001b[0m\u001b[0mplot\u001b[0m\u001b[0;34m(\u001b[0m\u001b[0mstyle\u001b[0m \u001b[0;34m=\u001b[0m \u001b[0;34m'k-'\u001b[0m\u001b[0;34m,\u001b[0m \u001b[0max\u001b[0m \u001b[0;34m=\u001b[0m \u001b[0maxes\u001b[0m\u001b[0;34m[\u001b[0m\u001b[0;36m1\u001b[0m\u001b[0;34m]\u001b[0m\u001b[0;34m)\u001b[0m\u001b[0;34m\u001b[0m\u001b[0m\n\u001b[0;32m----> 9\u001b[0;31m \u001b[0mewma60\u001b[0m\u001b[0;34m.\u001b[0m\u001b[0mplot\u001b[0m\u001b[0;34m(\u001b[0m\u001b[0mstyle\u001b[0m \u001b[0;34m=\u001b[0m \u001b[0;34m'k--'\u001b[0m\u001b[0;34m,\u001b[0m \u001b[0max\u001b[0m \u001b[0;34m=\u001b[0m\u001b[0maxes\u001b[0m\u001b[0;34m[\u001b[0m\u001b[0;36m1\u001b[0m\u001b[0;34m]\u001b[0m\u001b[0;34m)\u001b[0m\u001b[0;34m\u001b[0m\u001b[0m\n\u001b[0m\u001b[1;32m     10\u001b[0m \u001b[0maxes\u001b[0m\u001b[0;34m[\u001b[0m\u001b[0;36m1\u001b[0m\u001b[0;34m]\u001b[0m\u001b[0;34m.\u001b[0m\u001b[0mset_title\u001b[0m\u001b[0;34m(\u001b[0m\u001b[0;34m'Exponentially-weighted MA'\u001b[0m\u001b[0;34m)\u001b[0m\u001b[0;34m\u001b[0m\u001b[0m\n",
      "\u001b[0;32m/usr/local/lib/python3.5/dist-packages/pandas/core/window.py\u001b[0m in \u001b[0;36m__getattr__\u001b[0;34m(self, attr)\u001b[0m\n\u001b[1;32m    176\u001b[0m \u001b[0;34m\u001b[0m\u001b[0m\n\u001b[1;32m    177\u001b[0m         raise AttributeError(\"%r object has no attribute %r\" %\n\u001b[0;32m--> 178\u001b[0;31m                              (type(self).__name__, attr))\n\u001b[0m\u001b[1;32m    179\u001b[0m \u001b[0;34m\u001b[0m\u001b[0m\n\u001b[1;32m    180\u001b[0m     \u001b[0;32mdef\u001b[0m \u001b[0m_dir_additions\u001b[0m\u001b[0;34m(\u001b[0m\u001b[0mself\u001b[0m\u001b[0;34m)\u001b[0m\u001b[0;34m:\u001b[0m\u001b[0;34m\u001b[0m\u001b[0m\n",
      "\u001b[0;31mAttributeError\u001b[0m: 'EWM' object has no attribute 'plot'"
     ]
    },
    {
     "data": {
      "image/png": "[encoded data removed]",
      "text/plain": [
       "<matplotlib.figure.Figure at 0x7fdac9c91208>"
      ]
     },
     "metadata": {},
     "output_type": "display_data"
    }
   ],
   "source": [
    "fig, axes = plt.subplots(2, 1, figsize = (12.7, 7.2))\n",
    "aapl_px = close_px.AAPL['2005':'2009']\n",
    "ma60 = aapl_px.rolling(60, min_periods = 50).mean()\n",
    "ewma60 = aapl_px.ewm(span = 60)\n",
    "aapl_px.plot(style = 'k-', ax = axes[0])\n",
    "ma60.plot(style = 'k-', ax =axes[0])\n",
    "axes[0].set_title('Simple MA')\n",
    "aapl_px.plot(style = 'k-', ax = axes[1])\n",
    "ewma60.plot(style = 'k--', ax =axes[1])\n",
    "axes[1].set_title('Exponentially-weighted MA')"
   ]
  },
  {
   "cell_type": "markdown",
   "metadata": {},
   "source": [
    "#### 二元移动窗口函数\n",
    "还可以自定义窗口长度\n",
    "#### 自定义的移动窗口函数\n",
    "apply--要求返回单个值"
   ]
  },
  {
   "cell_type": "code",
   "execution_count": 110,
   "metadata": {},
   "outputs": [
    {
     "data": {
      "text/plain": [
       "2000-01-01 00:00:00.000    0.521862\n",
       "2000-01-01 00:00:00.010    0.655991\n",
       "2000-01-01 00:00:00.020    1.200900\n",
       "2000-01-01 00:00:00.030    1.158765\n",
       "2000-01-01 00:00:00.040    0.598483\n",
       "2000-01-01 00:00:00.050    1.551031\n",
       "2000-01-01 00:00:00.060   -1.119567\n",
       "2000-01-01 00:00:00.070    2.170957\n",
       "2000-01-01 00:00:00.080    0.274672\n",
       "2000-01-01 00:00:00.090    1.122602\n",
       "2000-01-01 00:00:00.100    1.908691\n",
       "2000-01-01 00:00:00.110    0.114451\n",
       "2000-01-01 00:00:00.120    0.738278\n",
       "2000-01-01 00:00:00.130    0.163947\n",
       "2000-01-01 00:00:00.140    1.344852\n",
       "2000-01-01 00:00:00.150   -2.014226\n",
       "2000-01-01 00:00:00.160    0.602333\n",
       "2000-01-01 00:00:00.170    1.708918\n",
       "2000-01-01 00:00:00.180   -2.312344\n",
       "2000-01-01 00:00:00.190   -0.009141\n",
       "2000-01-01 00:00:00.200   -0.104276\n",
       "2000-01-01 00:00:00.210    0.944458\n",
       "2000-01-01 00:00:00.220   -0.489004\n",
       "2000-01-01 00:00:00.230   -0.426731\n",
       "2000-01-01 00:00:00.240   -1.115151\n",
       "2000-01-01 00:00:00.250   -0.551846\n",
       "2000-01-01 00:00:00.260   -0.484649\n",
       "2000-01-01 00:00:00.270   -0.898640\n",
       "2000-01-01 00:00:00.280    0.706899\n",
       "2000-01-01 00:00:00.290    1.151360\n",
       "                             ...   \n",
       "2000-01-12 13:46:39.700   -1.547032\n",
       "2000-01-12 13:46:39.710   -0.251265\n",
       "2000-01-12 13:46:39.720    0.530874\n",
       "2000-01-12 13:46:39.730   -0.540013\n",
       "2000-01-12 13:46:39.740    1.146472\n",
       "2000-01-12 13:46:39.750    0.381226\n",
       "2000-01-12 13:46:39.760    0.735338\n",
       "2000-01-12 13:46:39.770    1.612474\n",
       "2000-01-12 13:46:39.780   -1.740133\n",
       "2000-01-12 13:46:39.790    0.960186\n",
       "2000-01-12 13:46:39.800    0.226899\n",
       "2000-01-12 13:46:39.810    0.246936\n",
       "2000-01-12 13:46:39.820    0.523982\n",
       "2000-01-12 13:46:39.830   -0.140342\n",
       "2000-01-12 13:46:39.840   -0.737522\n",
       "2000-01-12 13:46:39.850   -0.481688\n",
       "2000-01-12 13:46:39.860   -0.512005\n",
       "2000-01-12 13:46:39.870   -0.647149\n",
       "2000-01-12 13:46:39.880   -0.801068\n",
       "2000-01-12 13:46:39.890   -1.776660\n",
       "2000-01-12 13:46:39.900    1.149629\n",
       "2000-01-12 13:46:39.910   -0.060816\n",
       "2000-01-12 13:46:39.920    0.370149\n",
       "2000-01-12 13:46:39.930   -0.283100\n",
       "2000-01-12 13:46:39.940    1.765784\n",
       "2000-01-12 13:46:39.950   -0.433884\n",
       "2000-01-12 13:46:39.960   -1.686737\n",
       "2000-01-12 13:46:39.970    0.863169\n",
       "2000-01-12 13:46:39.980   -0.756370\n",
       "2000-01-12 13:46:39.990   -0.054617\n",
       "Freq: 10L, Length: 100000000, dtype: float64"
      ]
     },
     "execution_count": 110,
     "metadata": {},
     "output_type": "execute_result"
    }
   ],
   "source": [
    "# 性能方面\n",
    "rng = pd.date_range('1/1/2000', periods = 100000000, freq = '10ms')\n",
    "ts = Series(np.random.randn(len(rng)), index = rng)\n",
    "ts"
   ]
  },
  {
   "cell_type": "code",
   "execution_count": 111,
   "metadata": {
    "scrolled": true
   },
   "outputs": [
    {
     "data": {
      "text/html": [
       "<div>\n",
       "<style>\n",
       "    .dataframe thead tr:only-child th {\n",
       "        text-align: right;\n",
       "    }\n",
       "\n",
       "    .dataframe thead th {\n",
       "        text-align: left;\n",
       "    }\n",
       "\n",
       "    .dataframe tbody tr th {\n",
       "        vertical-align: top;\n",
       "    }\n",
       "</style>\n",
       "<table border=\"1\" class=\"dataframe\">\n",
       "  <thead>\n",
       "    <tr style=\"text-align: right;\">\n",
       "      <th></th>\n",
       "      <th>open</th>\n",
       "      <th>high</th>\n",
       "      <th>low</th>\n",
       "      <th>close</th>\n",
       "    </tr>\n",
       "  </thead>\n",
       "  <tbody>\n",
       "    <tr>\n",
       "      <th>2000-01-01 00:00:00</th>\n",
       "      <td>0.521862</td>\n",
       "      <td>4.874140</td>\n",
       "      <td>-4.345223</td>\n",
       "      <td>0.112908</td>\n",
       "    </tr>\n",
       "    <tr>\n",
       "      <th>2000-01-01 00:15:00</th>\n",
       "      <td>-0.402644</td>\n",
       "      <td>4.077807</td>\n",
       "      <td>-4.598769</td>\n",
       "      <td>-1.029565</td>\n",
       "    </tr>\n",
       "    <tr>\n",
       "      <th>2000-01-01 00:30:00</th>\n",
       "      <td>0.109775</td>\n",
       "      <td>4.360127</td>\n",
       "      <td>-4.528065</td>\n",
       "      <td>-0.431630</td>\n",
       "    </tr>\n",
       "    <tr>\n",
       "      <th>2000-01-01 00:45:00</th>\n",
       "      <td>0.647589</td>\n",
       "      <td>4.493408</td>\n",
       "      <td>-4.724972</td>\n",
       "      <td>-0.802850</td>\n",
       "    </tr>\n",
       "    <tr>\n",
       "      <th>2000-01-01 01:00:00</th>\n",
       "      <td>-0.143158</td>\n",
       "      <td>4.151550</td>\n",
       "      <td>-4.317555</td>\n",
       "      <td>0.349739</td>\n",
       "    </tr>\n",
       "    <tr>\n",
       "      <th>2000-01-01 01:15:00</th>\n",
       "      <td>0.731601</td>\n",
       "      <td>4.421986</td>\n",
       "      <td>-4.558735</td>\n",
       "      <td>-1.441001</td>\n",
       "    </tr>\n",
       "    <tr>\n",
       "      <th>2000-01-01 01:30:00</th>\n",
       "      <td>0.952385</td>\n",
       "      <td>4.230951</td>\n",
       "      <td>-4.357028</td>\n",
       "      <td>-0.273095</td>\n",
       "    </tr>\n",
       "    <tr>\n",
       "      <th>2000-01-01 01:45:00</th>\n",
       "      <td>0.855381</td>\n",
       "      <td>4.689757</td>\n",
       "      <td>-4.760330</td>\n",
       "      <td>-0.302331</td>\n",
       "    </tr>\n",
       "    <tr>\n",
       "      <th>2000-01-01 02:00:00</th>\n",
       "      <td>-1.274718</td>\n",
       "      <td>4.264824</td>\n",
       "      <td>-4.804831</td>\n",
       "      <td>0.497784</td>\n",
       "    </tr>\n",
       "    <tr>\n",
       "      <th>2000-01-01 02:15:00</th>\n",
       "      <td>1.578042</td>\n",
       "      <td>4.797492</td>\n",
       "      <td>-3.946217</td>\n",
       "      <td>-1.557075</td>\n",
       "    </tr>\n",
       "    <tr>\n",
       "      <th>2000-01-01 02:30:00</th>\n",
       "      <td>0.865884</td>\n",
       "      <td>4.227977</td>\n",
       "      <td>-4.529326</td>\n",
       "      <td>-2.296964</td>\n",
       "    </tr>\n",
       "    <tr>\n",
       "      <th>2000-01-01 02:45:00</th>\n",
       "      <td>1.399501</td>\n",
       "      <td>4.411643</td>\n",
       "      <td>-4.530773</td>\n",
       "      <td>0.808900</td>\n",
       "    </tr>\n",
       "    <tr>\n",
       "      <th>2000-01-01 03:00:00</th>\n",
       "      <td>1.158024</td>\n",
       "      <td>4.212224</td>\n",
       "      <td>-4.119161</td>\n",
       "      <td>-0.556778</td>\n",
       "    </tr>\n",
       "    <tr>\n",
       "      <th>2000-01-01 03:15:00</th>\n",
       "      <td>-0.324976</td>\n",
       "      <td>4.536461</td>\n",
       "      <td>-4.196221</td>\n",
       "      <td>0.876233</td>\n",
       "    </tr>\n",
       "    <tr>\n",
       "      <th>2000-01-01 03:30:00</th>\n",
       "      <td>1.136486</td>\n",
       "      <td>4.237817</td>\n",
       "      <td>-4.407748</td>\n",
       "      <td>2.098442</td>\n",
       "    </tr>\n",
       "    <tr>\n",
       "      <th>2000-01-01 03:45:00</th>\n",
       "      <td>-0.111730</td>\n",
       "      <td>5.392405</td>\n",
       "      <td>-4.301417</td>\n",
       "      <td>1.154723</td>\n",
       "    </tr>\n",
       "    <tr>\n",
       "      <th>2000-01-01 04:00:00</th>\n",
       "      <td>0.188718</td>\n",
       "      <td>4.520591</td>\n",
       "      <td>-4.406407</td>\n",
       "      <td>-1.519996</td>\n",
       "    </tr>\n",
       "    <tr>\n",
       "      <th>2000-01-01 04:15:00</th>\n",
       "      <td>-0.765763</td>\n",
       "      <td>4.439559</td>\n",
       "      <td>-4.479686</td>\n",
       "      <td>0.379814</td>\n",
       "    </tr>\n",
       "    <tr>\n",
       "      <th>2000-01-01 04:30:00</th>\n",
       "      <td>-0.120546</td>\n",
       "      <td>4.571202</td>\n",
       "      <td>-4.758209</td>\n",
       "      <td>-1.117296</td>\n",
       "    </tr>\n",
       "    <tr>\n",
       "      <th>2000-01-01 04:45:00</th>\n",
       "      <td>0.962329</td>\n",
       "      <td>4.398276</td>\n",
       "      <td>-5.116709</td>\n",
       "      <td>0.283156</td>\n",
       "    </tr>\n",
       "    <tr>\n",
       "      <th>2000-01-01 05:00:00</th>\n",
       "      <td>-1.609632</td>\n",
       "      <td>4.663189</td>\n",
       "      <td>-4.430406</td>\n",
       "      <td>-0.638983</td>\n",
       "    </tr>\n",
       "    <tr>\n",
       "      <th>2000-01-01 05:15:00</th>\n",
       "      <td>-0.178932</td>\n",
       "      <td>4.134448</td>\n",
       "      <td>-4.073527</td>\n",
       "      <td>1.293879</td>\n",
       "    </tr>\n",
       "    <tr>\n",
       "      <th>2000-01-01 05:30:00</th>\n",
       "      <td>0.035149</td>\n",
       "      <td>4.233949</td>\n",
       "      <td>-4.408589</td>\n",
       "      <td>0.914964</td>\n",
       "    </tr>\n",
       "    <tr>\n",
       "      <th>2000-01-01 05:45:00</th>\n",
       "      <td>-0.711308</td>\n",
       "      <td>4.353327</td>\n",
       "      <td>-4.177454</td>\n",
       "      <td>0.610653</td>\n",
       "    </tr>\n",
       "    <tr>\n",
       "      <th>2000-01-01 06:00:00</th>\n",
       "      <td>0.208610</td>\n",
       "      <td>4.275331</td>\n",
       "      <td>-4.220493</td>\n",
       "      <td>-0.539913</td>\n",
       "    </tr>\n",
       "    <tr>\n",
       "      <th>2000-01-01 06:15:00</th>\n",
       "      <td>0.696024</td>\n",
       "      <td>4.397196</td>\n",
       "      <td>-4.210772</td>\n",
       "      <td>2.249573</td>\n",
       "    </tr>\n",
       "    <tr>\n",
       "      <th>2000-01-01 06:30:00</th>\n",
       "      <td>-0.709688</td>\n",
       "      <td>3.990794</td>\n",
       "      <td>-5.020900</td>\n",
       "      <td>1.255176</td>\n",
       "    </tr>\n",
       "    <tr>\n",
       "      <th>2000-01-01 06:45:00</th>\n",
       "      <td>-0.017843</td>\n",
       "      <td>4.816465</td>\n",
       "      <td>-4.051384</td>\n",
       "      <td>0.371608</td>\n",
       "    </tr>\n",
       "    <tr>\n",
       "      <th>2000-01-01 07:00:00</th>\n",
       "      <td>-0.475003</td>\n",
       "      <td>5.407266</td>\n",
       "      <td>-4.127201</td>\n",
       "      <td>0.934321</td>\n",
       "    </tr>\n",
       "    <tr>\n",
       "      <th>2000-01-01 07:15:00</th>\n",
       "      <td>-0.406327</td>\n",
       "      <td>4.589626</td>\n",
       "      <td>-4.189180</td>\n",
       "      <td>0.551231</td>\n",
       "    </tr>\n",
       "    <tr>\n",
       "      <th>...</th>\n",
       "      <td>...</td>\n",
       "      <td>...</td>\n",
       "      <td>...</td>\n",
       "      <td>...</td>\n",
       "    </tr>\n",
       "    <tr>\n",
       "      <th>2000-01-12 06:30:00</th>\n",
       "      <td>-1.875786</td>\n",
       "      <td>4.011370</td>\n",
       "      <td>-4.423754</td>\n",
       "      <td>-0.688415</td>\n",
       "    </tr>\n",
       "    <tr>\n",
       "      <th>2000-01-12 06:45:00</th>\n",
       "      <td>0.231341</td>\n",
       "      <td>3.890879</td>\n",
       "      <td>-4.126283</td>\n",
       "      <td>0.757432</td>\n",
       "    </tr>\n",
       "    <tr>\n",
       "      <th>2000-01-12 07:00:00</th>\n",
       "      <td>-0.939836</td>\n",
       "      <td>4.061889</td>\n",
       "      <td>-4.163674</td>\n",
       "      <td>-1.276414</td>\n",
       "    </tr>\n",
       "    <tr>\n",
       "      <th>2000-01-12 07:15:00</th>\n",
       "      <td>1.233314</td>\n",
       "      <td>4.566225</td>\n",
       "      <td>-5.179676</td>\n",
       "      <td>0.402192</td>\n",
       "    </tr>\n",
       "    <tr>\n",
       "      <th>2000-01-12 07:30:00</th>\n",
       "      <td>0.192544</td>\n",
       "      <td>4.122464</td>\n",
       "      <td>-4.156914</td>\n",
       "      <td>-1.155066</td>\n",
       "    </tr>\n",
       "    <tr>\n",
       "      <th>2000-01-12 07:45:00</th>\n",
       "      <td>0.536112</td>\n",
       "      <td>4.522132</td>\n",
       "      <td>-4.362715</td>\n",
       "      <td>-0.661339</td>\n",
       "    </tr>\n",
       "    <tr>\n",
       "      <th>2000-01-12 08:00:00</th>\n",
       "      <td>0.190452</td>\n",
       "      <td>4.360202</td>\n",
       "      <td>-3.995642</td>\n",
       "      <td>-0.193350</td>\n",
       "    </tr>\n",
       "    <tr>\n",
       "      <th>2000-01-12 08:15:00</th>\n",
       "      <td>-0.084409</td>\n",
       "      <td>4.725913</td>\n",
       "      <td>-4.234106</td>\n",
       "      <td>-0.836458</td>\n",
       "    </tr>\n",
       "    <tr>\n",
       "      <th>2000-01-12 08:30:00</th>\n",
       "      <td>-0.107634</td>\n",
       "      <td>4.682601</td>\n",
       "      <td>-4.067422</td>\n",
       "      <td>0.446976</td>\n",
       "    </tr>\n",
       "    <tr>\n",
       "      <th>2000-01-12 08:45:00</th>\n",
       "      <td>-1.023350</td>\n",
       "      <td>4.365384</td>\n",
       "      <td>-4.532059</td>\n",
       "      <td>-1.633541</td>\n",
       "    </tr>\n",
       "    <tr>\n",
       "      <th>2000-01-12 09:00:00</th>\n",
       "      <td>-1.067950</td>\n",
       "      <td>4.357863</td>\n",
       "      <td>-4.084011</td>\n",
       "      <td>-0.249695</td>\n",
       "    </tr>\n",
       "    <tr>\n",
       "      <th>2000-01-12 09:15:00</th>\n",
       "      <td>2.972028</td>\n",
       "      <td>4.279943</td>\n",
       "      <td>-4.305570</td>\n",
       "      <td>0.593121</td>\n",
       "    </tr>\n",
       "    <tr>\n",
       "      <th>2000-01-12 09:30:00</th>\n",
       "      <td>-0.128516</td>\n",
       "      <td>4.367369</td>\n",
       "      <td>-4.329169</td>\n",
       "      <td>-0.523151</td>\n",
       "    </tr>\n",
       "    <tr>\n",
       "      <th>2000-01-12 09:45:00</th>\n",
       "      <td>-1.728421</td>\n",
       "      <td>4.387718</td>\n",
       "      <td>-4.509234</td>\n",
       "      <td>0.865054</td>\n",
       "    </tr>\n",
       "    <tr>\n",
       "      <th>2000-01-12 10:00:00</th>\n",
       "      <td>-0.102250</td>\n",
       "      <td>4.181282</td>\n",
       "      <td>-4.572421</td>\n",
       "      <td>1.244396</td>\n",
       "    </tr>\n",
       "    <tr>\n",
       "      <th>2000-01-12 10:15:00</th>\n",
       "      <td>0.669238</td>\n",
       "      <td>4.383729</td>\n",
       "      <td>-4.504581</td>\n",
       "      <td>0.371380</td>\n",
       "    </tr>\n",
       "    <tr>\n",
       "      <th>2000-01-12 10:30:00</th>\n",
       "      <td>0.642025</td>\n",
       "      <td>4.195415</td>\n",
       "      <td>-4.295274</td>\n",
       "      <td>-0.342538</td>\n",
       "    </tr>\n",
       "    <tr>\n",
       "      <th>2000-01-12 10:45:00</th>\n",
       "      <td>0.137359</td>\n",
       "      <td>4.078771</td>\n",
       "      <td>-4.224738</td>\n",
       "      <td>-0.750089</td>\n",
       "    </tr>\n",
       "    <tr>\n",
       "      <th>2000-01-12 11:00:00</th>\n",
       "      <td>0.254625</td>\n",
       "      <td>4.265136</td>\n",
       "      <td>-4.917884</td>\n",
       "      <td>-0.255388</td>\n",
       "    </tr>\n",
       "    <tr>\n",
       "      <th>2000-01-12 11:15:00</th>\n",
       "      <td>-0.766625</td>\n",
       "      <td>3.903581</td>\n",
       "      <td>-4.225576</td>\n",
       "      <td>1.726974</td>\n",
       "    </tr>\n",
       "    <tr>\n",
       "      <th>2000-01-12 11:30:00</th>\n",
       "      <td>-0.036922</td>\n",
       "      <td>4.177038</td>\n",
       "      <td>-4.414990</td>\n",
       "      <td>-1.094188</td>\n",
       "    </tr>\n",
       "    <tr>\n",
       "      <th>2000-01-12 11:45:00</th>\n",
       "      <td>-0.441833</td>\n",
       "      <td>4.106040</td>\n",
       "      <td>-4.347734</td>\n",
       "      <td>1.139741</td>\n",
       "    </tr>\n",
       "    <tr>\n",
       "      <th>2000-01-12 12:00:00</th>\n",
       "      <td>-1.564143</td>\n",
       "      <td>4.672597</td>\n",
       "      <td>-4.476221</td>\n",
       "      <td>-0.374261</td>\n",
       "    </tr>\n",
       "    <tr>\n",
       "      <th>2000-01-12 12:15:00</th>\n",
       "      <td>0.556669</td>\n",
       "      <td>4.290543</td>\n",
       "      <td>-4.581228</td>\n",
       "      <td>-1.252996</td>\n",
       "    </tr>\n",
       "    <tr>\n",
       "      <th>2000-01-12 12:30:00</th>\n",
       "      <td>0.995581</td>\n",
       "      <td>4.213766</td>\n",
       "      <td>-4.212611</td>\n",
       "      <td>-0.368605</td>\n",
       "    </tr>\n",
       "    <tr>\n",
       "      <th>2000-01-12 12:45:00</th>\n",
       "      <td>-1.737006</td>\n",
       "      <td>4.405434</td>\n",
       "      <td>-4.058883</td>\n",
       "      <td>-0.121900</td>\n",
       "    </tr>\n",
       "    <tr>\n",
       "      <th>2000-01-12 13:00:00</th>\n",
       "      <td>-0.931474</td>\n",
       "      <td>4.878343</td>\n",
       "      <td>-4.837663</td>\n",
       "      <td>-0.755585</td>\n",
       "    </tr>\n",
       "    <tr>\n",
       "      <th>2000-01-12 13:15:00</th>\n",
       "      <td>1.327972</td>\n",
       "      <td>5.056085</td>\n",
       "      <td>-4.142919</td>\n",
       "      <td>-0.900062</td>\n",
       "    </tr>\n",
       "    <tr>\n",
       "      <th>2000-01-12 13:30:00</th>\n",
       "      <td>1.335646</td>\n",
       "      <td>4.904654</td>\n",
       "      <td>-3.780658</td>\n",
       "      <td>-0.579045</td>\n",
       "    </tr>\n",
       "    <tr>\n",
       "      <th>2000-01-12 13:45:00</th>\n",
       "      <td>0.564408</td>\n",
       "      <td>3.898922</td>\n",
       "      <td>-4.206129</td>\n",
       "      <td>-0.054617</td>\n",
       "    </tr>\n",
       "  </tbody>\n",
       "</table>\n",
       "<p>1112 rows × 4 columns</p>\n",
       "</div>"
      ],
      "text/plain": [
       "                         open      high       low     close\n",
       "2000-01-01 00:00:00  0.521862  4.874140 -4.345223  0.112908\n",
       "2000-01-01 00:15:00 -0.402644  4.077807 -4.598769 -1.029565\n",
       "2000-01-01 00:30:00  0.109775  4.360127 -4.528065 -0.431630\n",
       "2000-01-01 00:45:00  0.647589  4.493408 -4.724972 -0.802850\n",
       "2000-01-01 01:00:00 -0.143158  4.151550 -4.317555  0.349739\n",
       "2000-01-01 01:15:00  0.731601  4.421986 -4.558735 -1.441001\n",
       "2000-01-01 01:30:00  0.952385  4.230951 -4.357028 -0.273095\n",
       "2000-01-01 01:45:00  0.855381  4.689757 -4.760330 -0.302331\n",
       "2000-01-01 02:00:00 -1.274718  4.264824 -4.804831  0.497784\n",
       "2000-01-01 02:15:00  1.578042  4.797492 -3.946217 -1.557075\n",
       "2000-01-01 02:30:00  0.865884  4.227977 -4.529326 -2.296964\n",
       "2000-01-01 02:45:00  1.399501  4.411643 -4.530773  0.808900\n",
       "2000-01-01 03:00:00  1.158024  4.212224 -4.119161 -0.556778\n",
       "2000-01-01 03:15:00 -0.324976  4.536461 -4.196221  0.876233\n",
       "2000-01-01 03:30:00  1.136486  4.237817 -4.407748  2.098442\n",
       "2000-01-01 03:45:00 -0.111730  5.392405 -4.301417  1.154723\n",
       "2000-01-01 04:00:00  0.188718  4.520591 -4.406407 -1.519996\n",
       "2000-01-01 04:15:00 -0.765763  4.439559 -4.479686  0.379814\n",
       "2000-01-01 04:30:00 -0.120546  4.571202 -4.758209 -1.117296\n",
       "2000-01-01 04:45:00  0.962329  4.398276 -5.116709  0.283156\n",
       "2000-01-01 05:00:00 -1.609632  4.663189 -4.430406 -0.638983\n",
       "2000-01-01 05:15:00 -0.178932  4.134448 -4.073527  1.293879\n",
       "2000-01-01 05:30:00  0.035149  4.233949 -4.408589  0.914964\n",
       "2000-01-01 05:45:00 -0.711308  4.353327 -4.177454  0.610653\n",
       "2000-01-01 06:00:00  0.208610  4.275331 -4.220493 -0.539913\n",
       "2000-01-01 06:15:00  0.696024  4.397196 -4.210772  2.249573\n",
       "2000-01-01 06:30:00 -0.709688  3.990794 -5.020900  1.255176\n",
       "2000-01-01 06:45:00 -0.017843  4.816465 -4.051384  0.371608\n",
       "2000-01-01 07:00:00 -0.475003  5.407266 -4.127201  0.934321\n",
       "2000-01-01 07:15:00 -0.406327  4.589626 -4.189180  0.551231\n",
       "...                       ...       ...       ...       ...\n",
       "2000-01-12 06:30:00 -1.875786  4.011370 -4.423754 -0.688415\n",
       "2000-01-12 06:45:00  0.231341  3.890879 -4.126283  0.757432\n",
       "2000-01-12 07:00:00 -0.939836  4.061889 -4.163674 -1.276414\n",
       "2000-01-12 07:15:00  1.233314  4.566225 -5.179676  0.402192\n",
       "2000-01-12 07:30:00  0.192544  4.122464 -4.156914 -1.155066\n",
       "2000-01-12 07:45:00  0.536112  4.522132 -4.362715 -0.661339\n",
       "2000-01-12 08:00:00  0.190452  4.360202 -3.995642 -0.193350\n",
       "2000-01-12 08:15:00 -0.084409  4.725913 -4.234106 -0.836458\n",
       "2000-01-12 08:30:00 -0.107634  4.682601 -4.067422  0.446976\n",
       "2000-01-12 08:45:00 -1.023350  4.365384 -4.532059 -1.633541\n",
       "2000-01-12 09:00:00 -1.067950  4.357863 -4.084011 -0.249695\n",
       "2000-01-12 09:15:00  2.972028  4.279943 -4.305570  0.593121\n",
       "2000-01-12 09:30:00 -0.128516  4.367369 -4.329169 -0.523151\n",
       "2000-01-12 09:45:00 -1.728421  4.387718 -4.509234  0.865054\n",
       "2000-01-12 10:00:00 -0.102250  4.181282 -4.572421  1.244396\n",
       "2000-01-12 10:15:00  0.669238  4.383729 -4.504581  0.371380\n",
       "2000-01-12 10:30:00  0.642025  4.195415 -4.295274 -0.342538\n",
       "2000-01-12 10:45:00  0.137359  4.078771 -4.224738 -0.750089\n",
       "2000-01-12 11:00:00  0.254625  4.265136 -4.917884 -0.255388\n",
       "2000-01-12 11:15:00 -0.766625  3.903581 -4.225576  1.726974\n",
       "2000-01-12 11:30:00 -0.036922  4.177038 -4.414990 -1.094188\n",
       "2000-01-12 11:45:00 -0.441833  4.106040 -4.347734  1.139741\n",
       "2000-01-12 12:00:00 -1.564143  4.672597 -4.476221 -0.374261\n",
       "2000-01-12 12:15:00  0.556669  4.290543 -4.581228 -1.252996\n",
       "2000-01-12 12:30:00  0.995581  4.213766 -4.212611 -0.368605\n",
       "2000-01-12 12:45:00 -1.737006  4.405434 -4.058883 -0.121900\n",
       "2000-01-12 13:00:00 -0.931474  4.878343 -4.837663 -0.755585\n",
       "2000-01-12 13:15:00  1.327972  5.056085 -4.142919 -0.900062\n",
       "2000-01-12 13:30:00  1.335646  4.904654 -3.780658 -0.579045\n",
       "2000-01-12 13:45:00  0.564408  3.898922 -4.206129 -0.054617\n",
       "\n",
       "[1112 rows x 4 columns]"
      ]
     },
     "execution_count": 111,
     "metadata": {},
     "output_type": "execute_result"
    }
   ],
   "source": [
    "ts.resample('15min').ohlc()"
   ]
  },
  {
   "cell_type": "code",
   "execution_count": 112,
   "metadata": {},
   "outputs": [
    {
     "name": "stdout",
     "output_type": "stream",
     "text": [
      "1.58 s ± 46 ms per loop (mean ± std. dev. of 7 runs, 1 loop each)\n"
     ]
    }
   ],
   "source": [
    "% timeit ts.resample('15T').ohlc()"
   ]
  },
  {
   "cell_type": "markdown",
   "metadata": {
    "collapsed": true
   },
   "source": [
    "#### 金融和经济数据应用"
   ]
  },
  {
   "cell_type": "code",
   "execution_count": 96,
   "metadata": {},
   "outputs": [
    {
     "data": {
      "text/html": [
       "<div>\n",
       "<style>\n",
       "    .dataframe thead tr:only-child th {\n",
       "        text-align: right;\n",
       "    }\n",
       "\n",
       "    .dataframe thead th {\n",
       "        text-align: left;\n",
       "    }\n",
       "\n",
       "    .dataframe tbody tr th {\n",
       "        vertical-align: top;\n",
       "    }\n",
       "</style>\n",
       "<table border=\"1\" class=\"dataframe\">\n",
       "  <thead>\n",
       "    <tr style=\"text-align: right;\">\n",
       "      <th></th>\n",
       "      <th>Unnamed: 0</th>\n",
       "      <th>AA</th>\n",
       "      <th>AAPL</th>\n",
       "      <th>GE</th>\n",
       "      <th>IBM</th>\n",
       "      <th>JNJ</th>\n",
       "      <th>MSFT</th>\n",
       "      <th>PEP</th>\n",
       "      <th>SPX</th>\n",
       "      <th>XOM</th>\n",
       "    </tr>\n",
       "  </thead>\n",
       "  <tbody>\n",
       "    <tr>\n",
       "      <th>0</th>\n",
       "      <td>1990-02-01 00:00:00</td>\n",
       "      <td>2185600.0</td>\n",
       "      <td>4193200.0</td>\n",
       "      <td>14457600.0</td>\n",
       "      <td>6903600.0</td>\n",
       "      <td>5942400.0</td>\n",
       "      <td>89193600.0</td>\n",
       "      <td>2954400.0</td>\n",
       "      <td>154580000.0</td>\n",
       "      <td>2916400.0</td>\n",
       "    </tr>\n",
       "    <tr>\n",
       "      <th>1</th>\n",
       "      <td>1990-02-02 00:00:00</td>\n",
       "      <td>3103200.0</td>\n",
       "      <td>4248800.0</td>\n",
       "      <td>15302400.0</td>\n",
       "      <td>6064400.0</td>\n",
       "      <td>4732800.0</td>\n",
       "      <td>71395200.0</td>\n",
       "      <td>2424000.0</td>\n",
       "      <td>164400000.0</td>\n",
       "      <td>4250000.0</td>\n",
       "    </tr>\n",
       "    <tr>\n",
       "      <th>2</th>\n",
       "      <td>1990-02-05 00:00:00</td>\n",
       "      <td>1792800.0</td>\n",
       "      <td>3653200.0</td>\n",
       "      <td>9134400.0</td>\n",
       "      <td>5299200.0</td>\n",
       "      <td>3950400.0</td>\n",
       "      <td>59731200.0</td>\n",
       "      <td>2225400.0</td>\n",
       "      <td>130950000.0</td>\n",
       "      <td>5880800.0</td>\n",
       "    </tr>\n",
       "    <tr>\n",
       "      <th>3</th>\n",
       "      <td>1990-02-06 00:00:00</td>\n",
       "      <td>2205600.0</td>\n",
       "      <td>2640000.0</td>\n",
       "      <td>14389200.0</td>\n",
       "      <td>10808000.0</td>\n",
       "      <td>3761600.0</td>\n",
       "      <td>81964800.0</td>\n",
       "      <td>3270000.0</td>\n",
       "      <td>134070000.0</td>\n",
       "      <td>4750800.0</td>\n",
       "    </tr>\n",
       "    <tr>\n",
       "      <th>4</th>\n",
       "      <td>1990-02-07 00:00:00</td>\n",
       "      <td>3592800.0</td>\n",
       "      <td>11180800.0</td>\n",
       "      <td>18704400.0</td>\n",
       "      <td>12057600.0</td>\n",
       "      <td>5458400.0</td>\n",
       "      <td>134150400.0</td>\n",
       "      <td>4332600.0</td>\n",
       "      <td>186710000.0</td>\n",
       "      <td>4124800.0</td>\n",
       "    </tr>\n",
       "    <tr>\n",
       "      <th>5</th>\n",
       "      <td>1990-02-08 00:00:00</td>\n",
       "      <td>2777600.0</td>\n",
       "      <td>6680000.0</td>\n",
       "      <td>16513200.0</td>\n",
       "      <td>7932000.0</td>\n",
       "      <td>8669600.0</td>\n",
       "      <td>95225600.0</td>\n",
       "      <td>5133000.0</td>\n",
       "      <td>176240000.0</td>\n",
       "      <td>5651200.0</td>\n",
       "    </tr>\n",
       "    <tr>\n",
       "      <th>6</th>\n",
       "      <td>1990-02-09 00:00:00</td>\n",
       "      <td>1582400.0</td>\n",
       "      <td>6004400.0</td>\n",
       "      <td>13785600.0</td>\n",
       "      <td>5061600.0</td>\n",
       "      <td>3277600.0</td>\n",
       "      <td>62380800.0</td>\n",
       "      <td>2628600.0</td>\n",
       "      <td>146910000.0</td>\n",
       "      <td>3384800.0</td>\n",
       "    </tr>\n",
       "    <tr>\n",
       "      <th>7</th>\n",
       "      <td>1990-02-12 00:00:00</td>\n",
       "      <td>2137600.0</td>\n",
       "      <td>2695600.0</td>\n",
       "      <td>15488400.0</td>\n",
       "      <td>4766400.0</td>\n",
       "      <td>2564800.0</td>\n",
       "      <td>56086400.0</td>\n",
       "      <td>1996200.0</td>\n",
       "      <td>118390000.0</td>\n",
       "      <td>2698000.0</td>\n",
       "    </tr>\n",
       "    <tr>\n",
       "      <th>8</th>\n",
       "      <td>1990-02-13 00:00:00</td>\n",
       "      <td>5026400.0</td>\n",
       "      <td>3653600.0</td>\n",
       "      <td>20540400.0</td>\n",
       "      <td>7168400.0</td>\n",
       "      <td>3635200.0</td>\n",
       "      <td>58752000.0</td>\n",
       "      <td>4217400.0</td>\n",
       "      <td>144490000.0</td>\n",
       "      <td>3564800.0</td>\n",
       "    </tr>\n",
       "    <tr>\n",
       "      <th>9</th>\n",
       "      <td>1990-02-14 00:00:00</td>\n",
       "      <td>2588800.0</td>\n",
       "      <td>3448000.0</td>\n",
       "      <td>10269600.0</td>\n",
       "      <td>6006800.0</td>\n",
       "      <td>3706400.0</td>\n",
       "      <td>35868800.0</td>\n",
       "      <td>2660400.0</td>\n",
       "      <td>138530000.0</td>\n",
       "      <td>2830000.0</td>\n",
       "    </tr>\n",
       "  </tbody>\n",
       "</table>\n",
       "</div>"
      ],
      "text/plain": [
       "            Unnamed: 0         AA        AAPL          GE         IBM  \\\n",
       "0  1990-02-01 00:00:00  2185600.0   4193200.0  14457600.0   6903600.0   \n",
       "1  1990-02-02 00:00:00  3103200.0   4248800.0  15302400.0   6064400.0   \n",
       "2  1990-02-05 00:00:00  1792800.0   3653200.0   9134400.0   5299200.0   \n",
       "3  1990-02-06 00:00:00  2205600.0   2640000.0  14389200.0  10808000.0   \n",
       "4  1990-02-07 00:00:00  3592800.0  11180800.0  18704400.0  12057600.0   \n",
       "5  1990-02-08 00:00:00  2777600.0   6680000.0  16513200.0   7932000.0   \n",
       "6  1990-02-09 00:00:00  1582400.0   6004400.0  13785600.0   5061600.0   \n",
       "7  1990-02-12 00:00:00  2137600.0   2695600.0  15488400.0   4766400.0   \n",
       "8  1990-02-13 00:00:00  5026400.0   3653600.0  20540400.0   7168400.0   \n",
       "9  1990-02-14 00:00:00  2588800.0   3448000.0  10269600.0   6006800.0   \n",
       "\n",
       "         JNJ         MSFT        PEP          SPX        XOM  \n",
       "0  5942400.0   89193600.0  2954400.0  154580000.0  2916400.0  \n",
       "1  4732800.0   71395200.0  2424000.0  164400000.0  4250000.0  \n",
       "2  3950400.0   59731200.0  2225400.0  130950000.0  5880800.0  \n",
       "3  3761600.0   81964800.0  3270000.0  134070000.0  4750800.0  \n",
       "4  5458400.0  134150400.0  4332600.0  186710000.0  4124800.0  \n",
       "5  8669600.0   95225600.0  5133000.0  176240000.0  5651200.0  \n",
       "6  3277600.0   62380800.0  2628600.0  146910000.0  3384800.0  \n",
       "7  2564800.0   56086400.0  1996200.0  118390000.0  2698000.0  \n",
       "8  3635200.0   58752000.0  4217400.0  144490000.0  3564800.0  \n",
       "9  3706400.0   35868800.0  2660400.0  138530000.0  2830000.0  "
      ]
     },
     "execution_count": 96,
     "metadata": {},
     "output_type": "execute_result"
    }
   ],
   "source": [
    "adata = pd.read_csv('volume.csv')\n",
    "bdata = pd.read_csv('px.csv')\n",
    "adata[:10]"
   ]
  },
  {
   "cell_type": "code",
   "execution_count": 3,
   "metadata": {},
   "outputs": [
    {
     "data": {
      "text/html": [
       "<div>\n",
       "<style>\n",
       "    .dataframe thead tr:only-child th {\n",
       "        text-align: right;\n",
       "    }\n",
       "\n",
       "    .dataframe thead th {\n",
       "        text-align: left;\n",
       "    }\n",
       "\n",
       "    .dataframe tbody tr th {\n",
       "        vertical-align: top;\n",
       "    }\n",
       "</style>\n",
       "<table border=\"1\" class=\"dataframe\">\n",
       "  <thead>\n",
       "    <tr style=\"text-align: right;\">\n",
       "      <th></th>\n",
       "      <th>Unnamed: 0</th>\n",
       "      <th>AA</th>\n",
       "      <th>AAPL</th>\n",
       "      <th>GE</th>\n",
       "      <th>IBM</th>\n",
       "      <th>JNJ</th>\n",
       "      <th>MSFT</th>\n",
       "      <th>PEP</th>\n",
       "      <th>SPX</th>\n",
       "      <th>XOM</th>\n",
       "    </tr>\n",
       "  </thead>\n",
       "  <tbody>\n",
       "    <tr>\n",
       "      <th>0</th>\n",
       "      <td>1990-02-01 00:00:00</td>\n",
       "      <td>4.98</td>\n",
       "      <td>7.86</td>\n",
       "      <td>2.87</td>\n",
       "      <td>16.79</td>\n",
       "      <td>4.27</td>\n",
       "      <td>0.51</td>\n",
       "      <td>6.04</td>\n",
       "      <td>328.79</td>\n",
       "      <td>6.12</td>\n",
       "    </tr>\n",
       "    <tr>\n",
       "      <th>1</th>\n",
       "      <td>1990-02-02 00:00:00</td>\n",
       "      <td>5.04</td>\n",
       "      <td>8.00</td>\n",
       "      <td>2.87</td>\n",
       "      <td>16.89</td>\n",
       "      <td>4.37</td>\n",
       "      <td>0.51</td>\n",
       "      <td>6.09</td>\n",
       "      <td>330.92</td>\n",
       "      <td>6.24</td>\n",
       "    </tr>\n",
       "    <tr>\n",
       "      <th>2</th>\n",
       "      <td>1990-02-05 00:00:00</td>\n",
       "      <td>5.07</td>\n",
       "      <td>8.18</td>\n",
       "      <td>2.87</td>\n",
       "      <td>17.32</td>\n",
       "      <td>4.34</td>\n",
       "      <td>0.51</td>\n",
       "      <td>6.05</td>\n",
       "      <td>331.85</td>\n",
       "      <td>6.25</td>\n",
       "    </tr>\n",
       "    <tr>\n",
       "      <th>3</th>\n",
       "      <td>1990-02-06 00:00:00</td>\n",
       "      <td>5.01</td>\n",
       "      <td>8.12</td>\n",
       "      <td>2.88</td>\n",
       "      <td>17.56</td>\n",
       "      <td>4.32</td>\n",
       "      <td>0.51</td>\n",
       "      <td>6.15</td>\n",
       "      <td>329.66</td>\n",
       "      <td>6.23</td>\n",
       "    </tr>\n",
       "    <tr>\n",
       "      <th>4</th>\n",
       "      <td>1990-02-07 00:00:00</td>\n",
       "      <td>5.04</td>\n",
       "      <td>7.77</td>\n",
       "      <td>2.91</td>\n",
       "      <td>17.93</td>\n",
       "      <td>4.38</td>\n",
       "      <td>0.51</td>\n",
       "      <td>6.17</td>\n",
       "      <td>333.75</td>\n",
       "      <td>6.33</td>\n",
       "    </tr>\n",
       "    <tr>\n",
       "      <th>5</th>\n",
       "      <td>1990-02-08 00:00:00</td>\n",
       "      <td>5.04</td>\n",
       "      <td>7.71</td>\n",
       "      <td>2.92</td>\n",
       "      <td>17.86</td>\n",
       "      <td>4.46</td>\n",
       "      <td>0.51</td>\n",
       "      <td>6.22</td>\n",
       "      <td>332.96</td>\n",
       "      <td>6.35</td>\n",
       "    </tr>\n",
       "    <tr>\n",
       "      <th>6</th>\n",
       "      <td>1990-02-09 00:00:00</td>\n",
       "      <td>5.06</td>\n",
       "      <td>8.00</td>\n",
       "      <td>2.94</td>\n",
       "      <td>17.82</td>\n",
       "      <td>4.49</td>\n",
       "      <td>0.52</td>\n",
       "      <td>6.24</td>\n",
       "      <td>333.62</td>\n",
       "      <td>6.37</td>\n",
       "    </tr>\n",
       "    <tr>\n",
       "      <th>7</th>\n",
       "      <td>1990-02-12 00:00:00</td>\n",
       "      <td>4.96</td>\n",
       "      <td>7.94</td>\n",
       "      <td>2.89</td>\n",
       "      <td>17.58</td>\n",
       "      <td>4.46</td>\n",
       "      <td>0.52</td>\n",
       "      <td>6.23</td>\n",
       "      <td>330.08</td>\n",
       "      <td>6.22</td>\n",
       "    </tr>\n",
       "    <tr>\n",
       "      <th>8</th>\n",
       "      <td>1990-02-13 00:00:00</td>\n",
       "      <td>4.91</td>\n",
       "      <td>8.06</td>\n",
       "      <td>2.88</td>\n",
       "      <td>17.95</td>\n",
       "      <td>4.43</td>\n",
       "      <td>0.52</td>\n",
       "      <td>6.09</td>\n",
       "      <td>331.02</td>\n",
       "      <td>6.23</td>\n",
       "    </tr>\n",
       "    <tr>\n",
       "      <th>9</th>\n",
       "      <td>1990-02-14 00:00:00</td>\n",
       "      <td>4.94</td>\n",
       "      <td>8.00</td>\n",
       "      <td>2.89</td>\n",
       "      <td>18.04</td>\n",
       "      <td>4.47</td>\n",
       "      <td>0.52</td>\n",
       "      <td>6.10</td>\n",
       "      <td>332.01</td>\n",
       "      <td>6.20</td>\n",
       "    </tr>\n",
       "  </tbody>\n",
       "</table>\n",
       "</div>"
      ],
      "text/plain": [
       "            Unnamed: 0    AA  AAPL    GE    IBM   JNJ  MSFT   PEP     SPX  \\\n",
       "0  1990-02-01 00:00:00  4.98  7.86  2.87  16.79  4.27  0.51  6.04  328.79   \n",
       "1  1990-02-02 00:00:00  5.04  8.00  2.87  16.89  4.37  0.51  6.09  330.92   \n",
       "2  1990-02-05 00:00:00  5.07  8.18  2.87  17.32  4.34  0.51  6.05  331.85   \n",
       "3  1990-02-06 00:00:00  5.01  8.12  2.88  17.56  4.32  0.51  6.15  329.66   \n",
       "4  1990-02-07 00:00:00  5.04  7.77  2.91  17.93  4.38  0.51  6.17  333.75   \n",
       "5  1990-02-08 00:00:00  5.04  7.71  2.92  17.86  4.46  0.51  6.22  332.96   \n",
       "6  1990-02-09 00:00:00  5.06  8.00  2.94  17.82  4.49  0.52  6.24  333.62   \n",
       "7  1990-02-12 00:00:00  4.96  7.94  2.89  17.58  4.46  0.52  6.23  330.08   \n",
       "8  1990-02-13 00:00:00  4.91  8.06  2.88  17.95  4.43  0.52  6.09  331.02   \n",
       "9  1990-02-14 00:00:00  4.94  8.00  2.89  18.04  4.47  0.52  6.10  332.01   \n",
       "\n",
       "    XOM  \n",
       "0  6.12  \n",
       "1  6.24  \n",
       "2  6.25  \n",
       "3  6.23  \n",
       "4  6.33  \n",
       "5  6.35  \n",
       "6  6.37  \n",
       "7  6.22  \n",
       "8  6.23  \n",
       "9  6.20  "
      ]
     },
     "execution_count": 3,
     "metadata": {},
     "output_type": "execute_result"
    }
   ],
   "source": [
    "bdata[:10]"
   ]
  },
  {
   "cell_type": "code",
   "execution_count": 103,
   "metadata": {
    "collapsed": true
   },
   "outputs": [],
   "source": [
    "adata1 = DataFrame(adata[['AAPL','JNJ','SPX','XOM']]).set_index(adata['Unnamed: 0'])\n",
    "adata1.index = pd.DatetimeIndex(list(map(lambda x:parse(x), adata1.index)))\n",
    "prices = adata1.loc['9/6/2011':'9/14/2011']"
   ]
  },
  {
   "cell_type": "code",
   "execution_count": 104,
   "metadata": {
    "collapsed": true
   },
   "outputs": [],
   "source": [
    "bdata1 = DataFrame(bdata[['AAPL','JNJ','XOM']]).set_index(bdata['Unnamed: 0'])\n",
    "bdata1.index = pd.DatetimeIndex(list(map(lambda x:parse(x), bdata1.index)))\n",
    "volume = bdata1.loc['9/6/2011':'9/14/2011']"
   ]
  },
  {
   "cell_type": "markdown",
   "metadata": {},
   "source": [
    "```python\n",
    "close_px = pd.read_csv('ch11/stock_px.csv', parse_dates=True, index_col=0)\n",
    "volume = pd.read_csv('ch11/volume.csv', parse_dates=True, index_col=0)\n",
    "```"
   ]
  },
  {
   "cell_type": "code",
   "execution_count": 105,
   "metadata": {},
   "outputs": [
    {
     "data": {
      "text/html": [
       "<div>\n",
       "<style>\n",
       "    .dataframe thead tr:only-child th {\n",
       "        text-align: right;\n",
       "    }\n",
       "\n",
       "    .dataframe thead th {\n",
       "        text-align: left;\n",
       "    }\n",
       "\n",
       "    .dataframe tbody tr th {\n",
       "        vertical-align: top;\n",
       "    }\n",
       "</style>\n",
       "<table border=\"1\" class=\"dataframe\">\n",
       "  <thead>\n",
       "    <tr style=\"text-align: right;\">\n",
       "      <th></th>\n",
       "      <th>AAPL</th>\n",
       "      <th>JNJ</th>\n",
       "      <th>SPX</th>\n",
       "      <th>XOM</th>\n",
       "    </tr>\n",
       "  </thead>\n",
       "  <tbody>\n",
       "    <tr>\n",
       "      <th>2011-09-06</th>\n",
       "      <td>6.901205e+09</td>\n",
       "      <td>1.024434e+09</td>\n",
       "      <td>NaN</td>\n",
       "      <td>1.808370e+09</td>\n",
       "    </tr>\n",
       "    <tr>\n",
       "      <th>2011-09-07</th>\n",
       "      <td>4.796054e+09</td>\n",
       "      <td>7.040072e+08</td>\n",
       "      <td>NaN</td>\n",
       "      <td>1.701934e+09</td>\n",
       "    </tr>\n",
       "    <tr>\n",
       "      <th>2011-09-08</th>\n",
       "      <td>5.700561e+09</td>\n",
       "      <td>1.010070e+09</td>\n",
       "      <td>NaN</td>\n",
       "      <td>1.633702e+09</td>\n",
       "    </tr>\n",
       "    <tr>\n",
       "      <th>2011-09-09</th>\n",
       "      <td>7.614489e+09</td>\n",
       "      <td>1.082402e+09</td>\n",
       "      <td>NaN</td>\n",
       "      <td>1.986086e+09</td>\n",
       "    </tr>\n",
       "    <tr>\n",
       "      <th>2011-09-12</th>\n",
       "      <td>6.343972e+09</td>\n",
       "      <td>8.551710e+08</td>\n",
       "      <td>NaN</td>\n",
       "      <td>1.882625e+09</td>\n",
       "    </tr>\n",
       "    <tr>\n",
       "      <th>2011-09-13</th>\n",
       "      <td>6.051726e+09</td>\n",
       "      <td>7.375770e+08</td>\n",
       "      <td>NaN</td>\n",
       "      <td>1.635440e+09</td>\n",
       "    </tr>\n",
       "    <tr>\n",
       "      <th>2011-09-14</th>\n",
       "      <td>7.429635e+09</td>\n",
       "      <td>8.558620e+08</td>\n",
       "      <td>NaN</td>\n",
       "      <td>1.891749e+09</td>\n",
       "    </tr>\n",
       "  </tbody>\n",
       "</table>\n",
       "</div>"
      ],
      "text/plain": [
       "                    AAPL           JNJ  SPX           XOM\n",
       "2011-09-06  6.901205e+09  1.024434e+09  NaN  1.808370e+09\n",
       "2011-09-07  4.796054e+09  7.040072e+08  NaN  1.701934e+09\n",
       "2011-09-08  5.700561e+09  1.010070e+09  NaN  1.633702e+09\n",
       "2011-09-09  7.614489e+09  1.082402e+09  NaN  1.986086e+09\n",
       "2011-09-12  6.343972e+09  8.551710e+08  NaN  1.882625e+09\n",
       "2011-09-13  6.051726e+09  7.375770e+08  NaN  1.635440e+09\n",
       "2011-09-14  7.429635e+09  8.558620e+08  NaN  1.891749e+09"
      ]
     },
     "execution_count": 105,
     "metadata": {},
     "output_type": "execute_result"
    }
   ],
   "source": [
    "# 数据自动对齐\n",
    "prices * volume"
   ]
  },
  {
   "cell_type": "code",
   "execution_count": 107,
   "metadata": {},
   "outputs": [
    {
     "data": {
      "text/plain": [
       "AAPL    1.673577e+07\n",
       "JNJ     1.394498e+07\n",
       "SPX              NaN\n",
       "XOM     2.484330e+07\n",
       "dtype: float64"
      ]
     },
     "execution_count": 107,
     "metadata": {},
     "output_type": "execute_result"
    }
   ],
   "source": [
    "vwap = (prices * volume).sum()/volume.sum()\n",
    "vwap"
   ]
  },
  {
   "cell_type": "code",
   "execution_count": 108,
   "metadata": {},
   "outputs": [
    {
     "data": {
      "text/plain": [
       "AAPL    1.673577e+07\n",
       "JNJ     1.394498e+07\n",
       "XOM     2.484330e+07\n",
       "dtype: float64"
      ]
     },
     "execution_count": 108,
     "metadata": {},
     "output_type": "execute_result"
    }
   ],
   "source": [
    "vwap.dropna()"
   ]
  },
  {
   "cell_type": "code",
   "execution_count": 109,
   "metadata": {},
   "outputs": [
    {
     "data": {
      "text/plain": [
       "(                  AAPL         JNJ         XOM\n",
       " 2011-09-06  18173500.0  15848300.0  25416300.0\n",
       " 2011-09-07  12492000.0  10759700.0  23108400.0\n",
       " 2011-09-08  14839800.0  15551500.0  22434800.0\n",
       " 2011-09-09  20171900.0  17008200.0  27969100.0\n",
       " 2011-09-12  16697300.0  13448200.0  26205800.0\n",
       " 2011-09-13  15734300.0  11595300.0  22825400.0\n",
       " 2011-09-14  19084600.0  13429500.0  26042800.0,\n",
       "               AAPL    JNJ    XOM\n",
       " 2011-09-06  379.74  64.64  71.15\n",
       " 2011-09-07  383.93  65.43  73.65\n",
       " 2011-09-08  384.14  64.95  72.82\n",
       " 2011-09-09  377.48  63.64  71.01\n",
       " 2011-09-12  379.94  63.59  71.84\n",
       " 2011-09-13  384.62  63.61  71.65\n",
       " 2011-09-14  389.30  63.73  72.64)"
      ]
     },
     "execution_count": 109,
     "metadata": {},
     "output_type": "execute_result"
    }
   ],
   "source": [
    "# 手工对齐\n",
    "prices.align(volume, join = 'inner')"
   ]
  },
  {
   "cell_type": "markdown",
   "metadata": {},
   "source": [
    "#### 频率不同的时间序列运算\n",
    "频率转化和重对齐两大工具： **resample** \n",
    "**reindex**  \n",
    "* *resample*用于将数据转换到固定频率\n",
    "* *reindex*用于使数据符合一个新的索引"
   ]
  },
  {
   "cell_type": "code",
   "execution_count": 112,
   "metadata": {},
   "outputs": [
    {
     "data": {
      "text/plain": [
       "2012-06-13   -0.959264\n",
       "2012-06-20   -0.651589\n",
       "2012-06-27    0.071704\n",
       "Freq: W-WED, dtype: float64"
      ]
     },
     "execution_count": 112,
     "metadata": {},
     "output_type": "execute_result"
    }
   ],
   "source": [
    "ts1 = Series(np.random.randn(3), index = pd.date_range('6/13/2012', periods = 3, freq = 'W-WED'))\n",
    "ts1"
   ]
  },
  {
   "cell_type": "code",
   "execution_count": 113,
   "metadata": {},
   "outputs": [
    {
     "data": {
      "text/plain": [
       "2012-06-13   -0.959264\n",
       "2012-06-14   -0.959264\n",
       "2012-06-15   -0.959264\n",
       "2012-06-18   -0.959264\n",
       "2012-06-19   -0.959264\n",
       "2012-06-20   -0.651589\n",
       "2012-06-21   -0.651589\n",
       "2012-06-22   -0.651589\n",
       "2012-06-25   -0.651589\n",
       "2012-06-26   -0.651589\n",
       "2012-06-27    0.071704\n",
       "Freq: B, dtype: float64"
      ]
     },
     "execution_count": 113,
     "metadata": {},
     "output_type": "execute_result"
    }
   ],
   "source": [
    "ts1.resample('B').ffill()"
   ]
  },
  {
   "cell_type": "code",
   "execution_count": 114,
   "metadata": {},
   "outputs": [
    {
     "data": {
      "text/plain": [
       "2012-06-12   -0.209946\n",
       "2012-06-17    1.009315\n",
       "2012-06-18   -1.228488\n",
       "2012-06-21    1.088245\n",
       "2012-06-22   -1.103669\n",
       "2012-06-29   -2.051316\n",
       "dtype: float64"
      ]
     },
     "execution_count": 114,
     "metadata": {},
     "output_type": "execute_result"
    }
   ],
   "source": [
    "ts2 = Series(np.random.randn(6), index = pd.DatetimeIndex(['2012-6-12','2012-6-17','2012-6-18',\n",
    "                                                          '2012-6-21','2012-6-22','2012-6-29']))\n",
    "ts2"
   ]
  },
  {
   "cell_type": "code",
   "execution_count": 119,
   "metadata": {
    "collapsed": true
   },
   "outputs": [],
   "source": [
    "ts1 = ts1.resample('B').ffill()"
   ]
  },
  {
   "cell_type": "code",
   "execution_count": 120,
   "metadata": {},
   "outputs": [
    {
     "data": {
      "text/plain": [
       "2012-06-12         NaN\n",
       "2012-06-17         NaN\n",
       "2012-06-18   -2.187752\n",
       "2012-06-21    0.436656\n",
       "2012-06-22   -1.755259\n",
       "2012-06-29   -2.702906\n",
       "dtype: float64"
      ]
     },
     "execution_count": 120,
     "metadata": {},
     "output_type": "execute_result"
    }
   ],
   "source": [
    "ts1.reindex(ts2.index).ffill() + ts2  # 用一个适应另一个"
   ]
  },
  {
   "cell_type": "code",
   "execution_count": 121,
   "metadata": {},
   "outputs": [
    {
     "data": {
      "text/plain": [
       "1984Q2    1.78\n",
       "1984Q3    1.94\n",
       "1984Q4    2.08\n",
       "1985Q1    2.01\n",
       "1985Q2    2.15\n",
       "1985Q3    2.31\n",
       "1985Q4    2.46\n",
       "Freq: Q-SEP, dtype: float64"
      ]
     },
     "execution_count": 121,
     "metadata": {},
     "output_type": "execute_result"
    }
   ],
   "source": [
    "# 使用Period 切换频率asfreq\n",
    "gdp = Series([1.78, 1.94, 2.08, 2.01, 2.15, 2.31, 2.46],\n",
    "             index=pd.period_range('1984Q2', periods=7, freq='Q-SEP'))\n",
    "infl = Series([0.025, 0.045, 0.037, 0.04],\n",
    "              index=pd.period_range('1982', periods=4, freq='A-DEC'))\n",
    "gdp"
   ]
  },
  {
   "cell_type": "code",
   "execution_count": 122,
   "metadata": {},
   "outputs": [
    {
     "data": {
      "text/plain": [
       "1982    0.025\n",
       "1983    0.045\n",
       "1984    0.037\n",
       "1985    0.040\n",
       "Freq: A-DEC, dtype: float64"
      ]
     },
     "execution_count": 122,
     "metadata": {},
     "output_type": "execute_result"
    }
   ],
   "source": [
    "infl"
   ]
  },
  {
   "cell_type": "code",
   "execution_count": 124,
   "metadata": {},
   "outputs": [
    {
     "data": {
      "text/plain": [
       "1983Q1    0.025\n",
       "1984Q1    0.045\n",
       "1985Q1    0.037\n",
       "1986Q1    0.040\n",
       "Freq: Q-SEP, dtype: float64"
      ]
     },
     "execution_count": 124,
     "metadata": {},
     "output_type": "execute_result"
    }
   ],
   "source": [
    "infl_q = infl.asfreq('Q-SEP',how = 'end')  # asfreq是切换频率\n",
    "infl_q"
   ]
  },
  {
   "cell_type": "code",
   "execution_count": 125,
   "metadata": {},
   "outputs": [
    {
     "data": {
      "text/plain": [
       "1984Q2      NaN\n",
       "1984Q3      NaN\n",
       "1984Q4      NaN\n",
       "1985Q1    0.037\n",
       "1985Q2    0.037\n",
       "1985Q3    0.037\n",
       "1985Q4    0.037\n",
       "Freq: Q-SEP, dtype: float64"
      ]
     },
     "execution_count": 125,
     "metadata": {},
     "output_type": "execute_result"
    }
   ],
   "source": [
    "infl_q.reindex(gdp.index).ffill()"
   ]
  },
  {
   "cell_type": "code",
   "execution_count": 126,
   "metadata": {
    "scrolled": true
   },
   "outputs": [
    {
     "data": {
      "text/plain": [
       "2012-06-01 09:30:00       0.0\n",
       "2012-06-01 09:31:00       1.0\n",
       "2012-06-01 09:32:00       2.0\n",
       "2012-06-01 09:33:00       3.0\n",
       "2012-06-01 09:34:00       4.0\n",
       "2012-06-01 09:35:00       5.0\n",
       "2012-06-01 09:36:00       6.0\n",
       "2012-06-01 09:37:00       7.0\n",
       "2012-06-01 09:38:00       8.0\n",
       "2012-06-01 09:39:00       9.0\n",
       "2012-06-01 09:40:00      10.0\n",
       "2012-06-01 09:41:00      11.0\n",
       "2012-06-01 09:42:00      12.0\n",
       "2012-06-01 09:43:00      13.0\n",
       "2012-06-01 09:44:00      14.0\n",
       "2012-06-01 09:45:00      15.0\n",
       "2012-06-01 09:46:00      16.0\n",
       "2012-06-01 09:47:00      17.0\n",
       "2012-06-01 09:48:00      18.0\n",
       "2012-06-01 09:49:00      19.0\n",
       "2012-06-01 09:50:00      20.0\n",
       "2012-06-01 09:51:00      21.0\n",
       "2012-06-01 09:52:00      22.0\n",
       "2012-06-01 09:53:00      23.0\n",
       "2012-06-01 09:54:00      24.0\n",
       "2012-06-01 09:55:00      25.0\n",
       "2012-06-01 09:56:00      26.0\n",
       "2012-06-01 09:57:00      27.0\n",
       "2012-06-01 09:58:00      28.0\n",
       "2012-06-01 09:59:00      29.0\n",
       "                        ...  \n",
       "2012-06-06 15:30:00    1530.0\n",
       "2012-06-06 15:31:00    1531.0\n",
       "2012-06-06 15:32:00    1532.0\n",
       "2012-06-06 15:33:00    1533.0\n",
       "2012-06-06 15:34:00    1534.0\n",
       "2012-06-06 15:35:00    1535.0\n",
       "2012-06-06 15:36:00    1536.0\n",
       "2012-06-06 15:37:00    1537.0\n",
       "2012-06-06 15:38:00    1538.0\n",
       "2012-06-06 15:39:00    1539.0\n",
       "2012-06-06 15:40:00    1540.0\n",
       "2012-06-06 15:41:00    1541.0\n",
       "2012-06-06 15:42:00    1542.0\n",
       "2012-06-06 15:43:00    1543.0\n",
       "2012-06-06 15:44:00    1544.0\n",
       "2012-06-06 15:45:00    1545.0\n",
       "2012-06-06 15:46:00    1546.0\n",
       "2012-06-06 15:47:00    1547.0\n",
       "2012-06-06 15:48:00    1548.0\n",
       "2012-06-06 15:49:00    1549.0\n",
       "2012-06-06 15:50:00    1550.0\n",
       "2012-06-06 15:51:00    1551.0\n",
       "2012-06-06 15:52:00    1552.0\n",
       "2012-06-06 15:53:00    1553.0\n",
       "2012-06-06 15:54:00    1554.0\n",
       "2012-06-06 15:55:00    1555.0\n",
       "2012-06-06 15:56:00    1556.0\n",
       "2012-06-06 15:57:00    1557.0\n",
       "2012-06-06 15:58:00    1558.0\n",
       "2012-06-06 15:59:00    1559.0\n",
       "Length: 1560, dtype: float64"
      ]
     },
     "execution_count": 126,
     "metadata": {},
     "output_type": "execute_result"
    }
   ],
   "source": [
    "# 如果数据没有恰好落在时间点上 --我们取个区间嘛\n",
    "# Make an intraday date range and time series\n",
    "rng = pd.date_range('2012-06-01 09:30', '2012-06-01 15:59', freq='T')\n",
    "# Make a 5-day series of 9:30-15:59 values\n",
    "rng = rng.append([rng + pd.offsets.BDay(i) for i in range(1, 4)])\n",
    "ts = Series(np.arange(len(rng), dtype=float), index=rng)\n",
    "ts"
   ]
  },
  {
   "cell_type": "code",
   "execution_count": 127,
   "metadata": {},
   "outputs": [
    {
     "data": {
      "text/plain": [
       "2012-06-01 10:00:00      30.0\n",
       "2012-06-04 10:00:00     420.0\n",
       "2012-06-05 10:00:00     810.0\n",
       "2012-06-06 10:00:00    1200.0\n",
       "dtype: float64"
      ]
     },
     "execution_count": 127,
     "metadata": {},
     "output_type": "execute_result"
    }
   ],
   "source": [
    "from datetime import time\n",
    "ts[time(10, 0)]  # 恰好落在10点的数据"
   ]
  },
  {
   "cell_type": "code",
   "execution_count": 128,
   "metadata": {},
   "outputs": [
    {
     "data": {
      "text/plain": [
       "2012-06-01 10:00:00      30.0\n",
       "2012-06-04 10:00:00     420.0\n",
       "2012-06-05 10:00:00     810.0\n",
       "2012-06-06 10:00:00    1200.0\n",
       "dtype: float64"
      ]
     },
     "execution_count": 128,
     "metadata": {},
     "output_type": "execute_result"
    }
   ],
   "source": [
    "# 实际情况\n",
    "ts.at_time(time(10,0))"
   ]
  },
  {
   "cell_type": "code",
   "execution_count": 129,
   "metadata": {},
   "outputs": [
    {
     "data": {
      "text/plain": [
       "2012-06-01 10:00:00      30.0\n",
       "2012-06-01 10:01:00      31.0\n",
       "2012-06-04 10:00:00     420.0\n",
       "2012-06-04 10:01:00     421.0\n",
       "2012-06-05 10:00:00     810.0\n",
       "2012-06-05 10:01:00     811.0\n",
       "2012-06-06 10:00:00    1200.0\n",
       "2012-06-06 10:01:00    1201.0\n",
       "dtype: float64"
      ]
     },
     "execution_count": 129,
     "metadata": {},
     "output_type": "execute_result"
    }
   ],
   "source": [
    "ts.between_time(time(10,0),time(10,1))  # 10点整到10点一分"
   ]
  },
  {
   "cell_type": "markdown",
   "metadata": {},
   "source": [
    "#### 拼接数据源\n",
    "* 从特定时刻切换数据源\n",
    "* 对序列缺失值打补丁\n",
    "* 将数据中的符号替换成实际数据"
   ]
  },
  {
   "cell_type": "code",
   "execution_count": 133,
   "metadata": {},
   "outputs": [
    {
     "data": {
      "text/html": [
       "<div>\n",
       "<style>\n",
       "    .dataframe thead tr:only-child th {\n",
       "        text-align: right;\n",
       "    }\n",
       "\n",
       "    .dataframe thead th {\n",
       "        text-align: left;\n",
       "    }\n",
       "\n",
       "    .dataframe tbody tr th {\n",
       "        vertical-align: top;\n",
       "    }\n",
       "</style>\n",
       "<table border=\"1\" class=\"dataframe\">\n",
       "  <thead>\n",
       "    <tr style=\"text-align: right;\">\n",
       "      <th></th>\n",
       "      <th>a</th>\n",
       "      <th>b</th>\n",
       "      <th>c</th>\n",
       "    </tr>\n",
       "  </thead>\n",
       "  <tbody>\n",
       "    <tr>\n",
       "      <th>2012-06-12</th>\n",
       "      <td>1.0</td>\n",
       "      <td>1.0</td>\n",
       "      <td>1.0</td>\n",
       "    </tr>\n",
       "    <tr>\n",
       "      <th>2012-06-13</th>\n",
       "      <td>1.0</td>\n",
       "      <td>1.0</td>\n",
       "      <td>1.0</td>\n",
       "    </tr>\n",
       "    <tr>\n",
       "      <th>2012-06-14</th>\n",
       "      <td>1.0</td>\n",
       "      <td>1.0</td>\n",
       "      <td>1.0</td>\n",
       "    </tr>\n",
       "    <tr>\n",
       "      <th>2012-06-15</th>\n",
       "      <td>2.0</td>\n",
       "      <td>2.0</td>\n",
       "      <td>2.0</td>\n",
       "    </tr>\n",
       "    <tr>\n",
       "      <th>2012-06-16</th>\n",
       "      <td>2.0</td>\n",
       "      <td>2.0</td>\n",
       "      <td>2.0</td>\n",
       "    </tr>\n",
       "    <tr>\n",
       "      <th>2012-06-17</th>\n",
       "      <td>2.0</td>\n",
       "      <td>2.0</td>\n",
       "      <td>2.0</td>\n",
       "    </tr>\n",
       "    <tr>\n",
       "      <th>2012-06-18</th>\n",
       "      <td>2.0</td>\n",
       "      <td>2.0</td>\n",
       "      <td>2.0</td>\n",
       "    </tr>\n",
       "  </tbody>\n",
       "</table>\n",
       "</div>"
      ],
      "text/plain": [
       "              a    b    c\n",
       "2012-06-12  1.0  1.0  1.0\n",
       "2012-06-13  1.0  1.0  1.0\n",
       "2012-06-14  1.0  1.0  1.0\n",
       "2012-06-15  2.0  2.0  2.0\n",
       "2012-06-16  2.0  2.0  2.0\n",
       "2012-06-17  2.0  2.0  2.0\n",
       "2012-06-18  2.0  2.0  2.0"
      ]
     },
     "execution_count": 133,
     "metadata": {},
     "output_type": "execute_result"
    }
   ],
   "source": [
    "# 1 切换\n",
    "data1 = DataFrame(np.ones((6, 3), dtype=float),\n",
    "                  columns=['a', 'b', 'c'],\n",
    "                  index=pd.date_range('6/12/2012', periods=6))\n",
    "data2 = DataFrame(np.ones((6, 3), dtype=float) * 2,\n",
    "                  columns=['a', 'b', 'c'],\n",
    "                  index=pd.date_range('6/13/2012', periods=6))\n",
    "spliced = pd.concat([data1.loc[:'2012-06-14'], data2.loc['2012-06-15':]])\n",
    "spliced"
   ]
  },
  {
   "cell_type": "code",
   "execution_count": 134,
   "metadata": {},
   "outputs": [
    {
     "data": {
      "text/html": [
       "<div>\n",
       "<style>\n",
       "    .dataframe thead tr:only-child th {\n",
       "        text-align: right;\n",
       "    }\n",
       "\n",
       "    .dataframe thead th {\n",
       "        text-align: left;\n",
       "    }\n",
       "\n",
       "    .dataframe tbody tr th {\n",
       "        vertical-align: top;\n",
       "    }\n",
       "</style>\n",
       "<table border=\"1\" class=\"dataframe\">\n",
       "  <thead>\n",
       "    <tr style=\"text-align: right;\">\n",
       "      <th></th>\n",
       "      <th>a</th>\n",
       "      <th>b</th>\n",
       "      <th>c</th>\n",
       "      <th>d</th>\n",
       "    </tr>\n",
       "  </thead>\n",
       "  <tbody>\n",
       "    <tr>\n",
       "      <th>2012-06-12</th>\n",
       "      <td>1.0</td>\n",
       "      <td>1.0</td>\n",
       "      <td>1.0</td>\n",
       "      <td>NaN</td>\n",
       "    </tr>\n",
       "    <tr>\n",
       "      <th>2012-06-13</th>\n",
       "      <td>1.0</td>\n",
       "      <td>1.0</td>\n",
       "      <td>1.0</td>\n",
       "      <td>NaN</td>\n",
       "    </tr>\n",
       "    <tr>\n",
       "      <th>2012-06-14</th>\n",
       "      <td>1.0</td>\n",
       "      <td>1.0</td>\n",
       "      <td>1.0</td>\n",
       "      <td>NaN</td>\n",
       "    </tr>\n",
       "    <tr>\n",
       "      <th>2012-06-15</th>\n",
       "      <td>2.0</td>\n",
       "      <td>2.0</td>\n",
       "      <td>2.0</td>\n",
       "      <td>2.0</td>\n",
       "    </tr>\n",
       "    <tr>\n",
       "      <th>2012-06-16</th>\n",
       "      <td>2.0</td>\n",
       "      <td>2.0</td>\n",
       "      <td>2.0</td>\n",
       "      <td>2.0</td>\n",
       "    </tr>\n",
       "    <tr>\n",
       "      <th>2012-06-17</th>\n",
       "      <td>2.0</td>\n",
       "      <td>2.0</td>\n",
       "      <td>2.0</td>\n",
       "      <td>2.0</td>\n",
       "    </tr>\n",
       "    <tr>\n",
       "      <th>2012-06-18</th>\n",
       "      <td>2.0</td>\n",
       "      <td>2.0</td>\n",
       "      <td>2.0</td>\n",
       "      <td>2.0</td>\n",
       "    </tr>\n",
       "  </tbody>\n",
       "</table>\n",
       "</div>"
      ],
      "text/plain": [
       "              a    b    c    d\n",
       "2012-06-12  1.0  1.0  1.0  NaN\n",
       "2012-06-13  1.0  1.0  1.0  NaN\n",
       "2012-06-14  1.0  1.0  1.0  NaN\n",
       "2012-06-15  2.0  2.0  2.0  2.0\n",
       "2012-06-16  2.0  2.0  2.0  2.0\n",
       "2012-06-17  2.0  2.0  2.0  2.0\n",
       "2012-06-18  2.0  2.0  2.0  2.0"
      ]
     },
     "execution_count": 134,
     "metadata": {},
     "output_type": "execute_result"
    }
   ],
   "source": [
    "# 2 补丁\n",
    "data2 = DataFrame(np.ones((6, 4), dtype=float) * 2,\n",
    "                  columns=['a', 'b', 'c', 'd'],\n",
    "                  index=pd.date_range('6/13/2012', periods=6))\n",
    "spliced = pd.concat([data1.loc[:'2012-06-14'], data2.loc['2012-06-15':]])\n",
    "spliced"
   ]
  },
  {
   "cell_type": "code",
   "execution_count": 136,
   "metadata": {},
   "outputs": [
    {
     "data": {
      "text/html": [
       "<div>\n",
       "<style>\n",
       "    .dataframe thead tr:only-child th {\n",
       "        text-align: right;\n",
       "    }\n",
       "\n",
       "    .dataframe thead th {\n",
       "        text-align: left;\n",
       "    }\n",
       "\n",
       "    .dataframe tbody tr th {\n",
       "        vertical-align: top;\n",
       "    }\n",
       "</style>\n",
       "<table border=\"1\" class=\"dataframe\">\n",
       "  <thead>\n",
       "    <tr style=\"text-align: right;\">\n",
       "      <th></th>\n",
       "      <th>a</th>\n",
       "      <th>b</th>\n",
       "      <th>c</th>\n",
       "      <th>d</th>\n",
       "    </tr>\n",
       "  </thead>\n",
       "  <tbody>\n",
       "    <tr>\n",
       "      <th>2012-06-12</th>\n",
       "      <td>1.0</td>\n",
       "      <td>1.0</td>\n",
       "      <td>1.0</td>\n",
       "      <td>NaN</td>\n",
       "    </tr>\n",
       "    <tr>\n",
       "      <th>2012-06-13</th>\n",
       "      <td>1.0</td>\n",
       "      <td>1.0</td>\n",
       "      <td>1.0</td>\n",
       "      <td>2.0</td>\n",
       "    </tr>\n",
       "    <tr>\n",
       "      <th>2012-06-14</th>\n",
       "      <td>1.0</td>\n",
       "      <td>1.0</td>\n",
       "      <td>1.0</td>\n",
       "      <td>2.0</td>\n",
       "    </tr>\n",
       "    <tr>\n",
       "      <th>2012-06-15</th>\n",
       "      <td>2.0</td>\n",
       "      <td>2.0</td>\n",
       "      <td>2.0</td>\n",
       "      <td>2.0</td>\n",
       "    </tr>\n",
       "    <tr>\n",
       "      <th>2012-06-16</th>\n",
       "      <td>2.0</td>\n",
       "      <td>2.0</td>\n",
       "      <td>2.0</td>\n",
       "      <td>2.0</td>\n",
       "    </tr>\n",
       "    <tr>\n",
       "      <th>2012-06-17</th>\n",
       "      <td>2.0</td>\n",
       "      <td>2.0</td>\n",
       "      <td>2.0</td>\n",
       "      <td>2.0</td>\n",
       "    </tr>\n",
       "    <tr>\n",
       "      <th>2012-06-18</th>\n",
       "      <td>2.0</td>\n",
       "      <td>2.0</td>\n",
       "      <td>2.0</td>\n",
       "      <td>2.0</td>\n",
       "    </tr>\n",
       "  </tbody>\n",
       "</table>\n",
       "</div>"
      ],
      "text/plain": [
       "              a    b    c    d\n",
       "2012-06-12  1.0  1.0  1.0  NaN\n",
       "2012-06-13  1.0  1.0  1.0  2.0\n",
       "2012-06-14  1.0  1.0  1.0  2.0\n",
       "2012-06-15  2.0  2.0  2.0  2.0\n",
       "2012-06-16  2.0  2.0  2.0  2.0\n",
       "2012-06-17  2.0  2.0  2.0  2.0\n",
       "2012-06-18  2.0  2.0  2.0  2.0"
      ]
     },
     "execution_count": 136,
     "metadata": {},
     "output_type": "execute_result"
    }
   ],
   "source": [
    "spliced_filled = spliced.combine_first(data2)\n",
    "spliced_filled  # 空缺值因为data2里也没有"
   ]
  },
  {
   "cell_type": "code",
   "execution_count": 138,
   "metadata": {},
   "outputs": [
    {
     "data": {
      "text/html": [
       "<div>\n",
       "<style>\n",
       "    .dataframe thead tr:only-child th {\n",
       "        text-align: right;\n",
       "    }\n",
       "\n",
       "    .dataframe thead th {\n",
       "        text-align: left;\n",
       "    }\n",
       "\n",
       "    .dataframe tbody tr th {\n",
       "        vertical-align: top;\n",
       "    }\n",
       "</style>\n",
       "<table border=\"1\" class=\"dataframe\">\n",
       "  <thead>\n",
       "    <tr style=\"text-align: right;\">\n",
       "      <th></th>\n",
       "      <th>a</th>\n",
       "      <th>b</th>\n",
       "      <th>c</th>\n",
       "      <th>d</th>\n",
       "    </tr>\n",
       "  </thead>\n",
       "  <tbody>\n",
       "    <tr>\n",
       "      <th>2012-06-12</th>\n",
       "      <td>1.0</td>\n",
       "      <td>1.0</td>\n",
       "      <td>1.0</td>\n",
       "      <td>NaN</td>\n",
       "    </tr>\n",
       "    <tr>\n",
       "      <th>2012-06-13</th>\n",
       "      <td>1.0</td>\n",
       "      <td>1.0</td>\n",
       "      <td>1.0</td>\n",
       "      <td>2.0</td>\n",
       "    </tr>\n",
       "    <tr>\n",
       "      <th>2012-06-14</th>\n",
       "      <td>1.0</td>\n",
       "      <td>1.0</td>\n",
       "      <td>1.0</td>\n",
       "      <td>2.0</td>\n",
       "    </tr>\n",
       "    <tr>\n",
       "      <th>2012-06-15</th>\n",
       "      <td>2.0</td>\n",
       "      <td>2.0</td>\n",
       "      <td>2.0</td>\n",
       "      <td>2.0</td>\n",
       "    </tr>\n",
       "    <tr>\n",
       "      <th>2012-06-16</th>\n",
       "      <td>2.0</td>\n",
       "      <td>2.0</td>\n",
       "      <td>2.0</td>\n",
       "      <td>2.0</td>\n",
       "    </tr>\n",
       "    <tr>\n",
       "      <th>2012-06-17</th>\n",
       "      <td>2.0</td>\n",
       "      <td>2.0</td>\n",
       "      <td>2.0</td>\n",
       "      <td>2.0</td>\n",
       "    </tr>\n",
       "    <tr>\n",
       "      <th>2012-06-18</th>\n",
       "      <td>2.0</td>\n",
       "      <td>2.0</td>\n",
       "      <td>2.0</td>\n",
       "      <td>2.0</td>\n",
       "    </tr>\n",
       "  </tbody>\n",
       "</table>\n",
       "</div>"
      ],
      "text/plain": [
       "              a    b    c    d\n",
       "2012-06-12  1.0  1.0  1.0  NaN\n",
       "2012-06-13  1.0  1.0  1.0  2.0\n",
       "2012-06-14  1.0  1.0  1.0  2.0\n",
       "2012-06-15  2.0  2.0  2.0  2.0\n",
       "2012-06-16  2.0  2.0  2.0  2.0\n",
       "2012-06-17  2.0  2.0  2.0  2.0\n",
       "2012-06-18  2.0  2.0  2.0  2.0"
      ]
     },
     "execution_count": 138,
     "metadata": {},
     "output_type": "execute_result"
    }
   ],
   "source": [
    "# dataframe里的方法\n",
    "spliced.update(data2, overwrite = False)\n",
    "spliced"
   ]
  },
  {
   "cell_type": "code",
   "execution_count": 139,
   "metadata": {},
   "outputs": [
    {
     "data": {
      "text/html": [
       "<div>\n",
       "<style>\n",
       "    .dataframe thead tr:only-child th {\n",
       "        text-align: right;\n",
       "    }\n",
       "\n",
       "    .dataframe thead th {\n",
       "        text-align: left;\n",
       "    }\n",
       "\n",
       "    .dataframe tbody tr th {\n",
       "        vertical-align: top;\n",
       "    }\n",
       "</style>\n",
       "<table border=\"1\" class=\"dataframe\">\n",
       "  <thead>\n",
       "    <tr style=\"text-align: right;\">\n",
       "      <th></th>\n",
       "      <th>a</th>\n",
       "      <th>b</th>\n",
       "      <th>c</th>\n",
       "      <th>d</th>\n",
       "    </tr>\n",
       "  </thead>\n",
       "  <tbody>\n",
       "    <tr>\n",
       "      <th>2012-06-12</th>\n",
       "      <td>1.0</td>\n",
       "      <td>1.0</td>\n",
       "      <td>1.0</td>\n",
       "      <td>NaN</td>\n",
       "    </tr>\n",
       "    <tr>\n",
       "      <th>2012-06-13</th>\n",
       "      <td>1.0</td>\n",
       "      <td>1.0</td>\n",
       "      <td>1.0</td>\n",
       "      <td>2.0</td>\n",
       "    </tr>\n",
       "    <tr>\n",
       "      <th>2012-06-14</th>\n",
       "      <td>1.0</td>\n",
       "      <td>1.0</td>\n",
       "      <td>1.0</td>\n",
       "      <td>2.0</td>\n",
       "    </tr>\n",
       "    <tr>\n",
       "      <th>2012-06-15</th>\n",
       "      <td>1.0</td>\n",
       "      <td>2.0</td>\n",
       "      <td>1.0</td>\n",
       "      <td>2.0</td>\n",
       "    </tr>\n",
       "    <tr>\n",
       "      <th>2012-06-16</th>\n",
       "      <td>1.0</td>\n",
       "      <td>2.0</td>\n",
       "      <td>1.0</td>\n",
       "      <td>2.0</td>\n",
       "    </tr>\n",
       "    <tr>\n",
       "      <th>2012-06-17</th>\n",
       "      <td>1.0</td>\n",
       "      <td>2.0</td>\n",
       "      <td>1.0</td>\n",
       "      <td>2.0</td>\n",
       "    </tr>\n",
       "    <tr>\n",
       "      <th>2012-06-18</th>\n",
       "      <td>NaN</td>\n",
       "      <td>2.0</td>\n",
       "      <td>NaN</td>\n",
       "      <td>2.0</td>\n",
       "    </tr>\n",
       "  </tbody>\n",
       "</table>\n",
       "</div>"
      ],
      "text/plain": [
       "              a    b    c    d\n",
       "2012-06-12  1.0  1.0  1.0  NaN\n",
       "2012-06-13  1.0  1.0  1.0  2.0\n",
       "2012-06-14  1.0  1.0  1.0  2.0\n",
       "2012-06-15  1.0  2.0  1.0  2.0\n",
       "2012-06-16  1.0  2.0  1.0  2.0\n",
       "2012-06-17  1.0  2.0  1.0  2.0\n",
       "2012-06-18  NaN  2.0  NaN  2.0"
      ]
     },
     "execution_count": 139,
     "metadata": {},
     "output_type": "execute_result"
    }
   ],
   "source": [
    "# 3 替换\n",
    "cp_spliced = spliced.copy()\n",
    "cp_spliced[['a', 'c']] = data1[['a', 'c']]\n",
    "cp_spliced"
   ]
  },
  {
   "cell_type": "code",
   "execution_count": 142,
   "metadata": {},
   "outputs": [
    {
     "ename": "ImportError",
     "evalue": "No module named 'pandas_datareader'",
     "output_type": "error",
     "traceback": [
      "\u001b[0;31m---------------------------------------------------------------------------\u001b[0m",
      "\u001b[0;31mImportError\u001b[0m                               Traceback (most recent call last)",
      "\u001b[0;32m<ipython-input-142-1c9b34f64d88>\u001b[0m in \u001b[0;36m<module>\u001b[0;34m()\u001b[0m\n\u001b[1;32m      1\u001b[0m \u001b[0;31m# 收益率\u001b[0m\u001b[0;34m\u001b[0m\u001b[0;34m\u001b[0m\u001b[0m\n\u001b[0;32m----> 2\u001b[0;31m \u001b[0;32mfrom\u001b[0m \u001b[0mpandas_datareader\u001b[0m \u001b[0;32mimport\u001b[0m \u001b[0mwb\u001b[0m\u001b[0;34m\u001b[0m\u001b[0m\n\u001b[0m\u001b[1;32m      3\u001b[0m \u001b[0mprice\u001b[0m \u001b[0;34m=\u001b[0m \u001b[0mweb\u001b[0m\u001b[0;34m.\u001b[0m\u001b[0mget_data_yahoo\u001b[0m\u001b[0;34m(\u001b[0m\u001b[0;34m'AAPL'\u001b[0m\u001b[0;34m,\u001b[0m\u001b[0;34m'2011-01-01'\u001b[0m\u001b[0;34m)\u001b[0m\u001b[0;34m[\u001b[0m\u001b[0;34m'Adj Close'\u001b[0m\u001b[0;34m]\u001b[0m\u001b[0;34m\u001b[0m\u001b[0m\n\u001b[1;32m      4\u001b[0m \u001b[0mprice\u001b[0m\u001b[0;34m[\u001b[0m\u001b[0;34m-\u001b[0m\u001b[0;36m5\u001b[0m\u001b[0;34m:\u001b[0m\u001b[0;34m]\u001b[0m\u001b[0;34m\u001b[0m\u001b[0m\n",
      "\u001b[0;31mImportError\u001b[0m: No module named 'pandas_datareader'"
     ]
    }
   ],
   "source": [
    "# 收益率\n",
    "from pandas_datareader import wb\n",
    "price = web.get_data_yahoo('AAPL','2011-01-01')['Adj Close']\n",
    "price[-5:]"
   ]
  },
  {
   "cell_type": "code",
   "execution_count": null,
   "metadata": {
    "collapsed": true
   },
   "outputs": [],
   "source": [
    "# 简单计算\n",
    "price['2011-10-03'] / price['2011-3-01'] - 1"
   ]
  },
  {
   "cell_type": "code",
   "execution_count": null,
   "metadata": {
    "collapsed": true
   },
   "outputs": [],
   "source": [
    "returns = price.pct_change()\n",
    "ret_index = (1 + returns).cumprod()\n",
    "ret_index[0] = 1  # Set first value to 1\n",
    "ret_index"
   ]
  },
  {
   "cell_type": "code",
   "execution_count": null,
   "metadata": {
    "collapsed": true
   },
   "outputs": [],
   "source": [
    "m_returns = ret_index.resample('BM', how='last').pct_change()\n",
    "m_returns['2012']"
   ]
  },
  {
   "cell_type": "code",
   "execution_count": null,
   "metadata": {
    "collapsed": true
   },
   "outputs": [],
   "source": [
    "m_rets = (1 + returns).resample('M', how='prod', kind='period') - 1\n",
    "m_rets['2012']"
   ]
  },
  {
   "cell_type": "code",
   "execution_count": null,
   "metadata": {
    "collapsed": true
   },
   "outputs": [],
   "source": [
    "returns[dividend_dates] += dividend_pcts  # 已知股息派发日和支付率"
   ]
  },
  {
   "cell_type": "markdown",
   "metadata": {},
   "source": [
    "#### 因子分析与分位数分析"
   ]
  }
 ],
 "metadata": {
  "kernelspec": {
   "display_name": "Python 3",
   "language": "python",
   "name": "python3"
  },
  "language_info": {
   "codemirror_mode": {
    "name": "ipython",
    "version": 3
   },
   "file_extension": ".py",
   "mimetype": "text/x-python",
   "name": "python",
   "nbconvert_exporter": "python",
   "pygments_lexer": "ipython3",
   "version": "3.6.3"
  }
 },
 "nbformat": 4,
 "nbformat_minor": 2
}
